{
 "cells": [
  {
   "cell_type": "code",
   "execution_count": 1,
   "metadata": {},
   "outputs": [],
   "source": [
    "import os\n",
    "import os.path as osp\n",
    "import sys\n",
    "from itertools import combinations\n",
    "sys.path.append(osp.abspath('..'))\n",
    "\n",
    "import numpy as np\n",
    "import scipy\n",
    "from tqdm import tqdm_notebook\n",
    "from scipy.stats import kurtosis, skew\n",
    "from sklearn.calibration import CalibratedClassifierCV\n",
    "from sklearn.linear_model import LogisticRegression\n",
    "from sklearn.metrics import accuracy_score\n",
    "from sklearn.model_selection import GridSearchCV, cross_validate\n",
    "from sklearn.preprocessing import scale\n",
    "from sklearn.svm import LinearSVC, SVC\n",
    "\n",
    "\n",
    "import config\n",
    "from datasets.gtzan import GTZAN_MFCC\n",
    "\n",
    "%load_ext autoreload\n",
    "%autoreload 2"
   ]
  },
  {
   "cell_type": "code",
   "execution_count": 2,
   "metadata": {},
   "outputs": [],
   "source": [
    "# Random seeds\n",
    "np.random.seed(1234)\n",
    "MIN_SEGMENTS = -1\n",
    "TEST_SEGMENTS = -1"
   ]
  },
  {
   "cell_type": "code",
   "execution_count": 3,
   "metadata": {},
   "outputs": [
    {
     "name": "stdout",
     "output_type": "stream",
     "text": [
      "Dataset: 1000\n",
      "Shape: (1, 39, 1997)\n"
     ]
    }
   ],
   "source": [
    "dataset = GTZAN_MFCC(phase='all')\n",
    "\n",
    "_, C, F = dataset[0][0].shape\n",
    "print('Dataset:', len(dataset))\n",
    "print('Shape:', dataset[0][0].shape)"
   ]
  },
  {
   "cell_type": "code",
   "execution_count": 4,
   "metadata": {},
   "outputs": [
    {
     "data": {
      "application/vnd.jupyter.widget-view+json": {
       "model_id": "9389802d14e840209ea8f25b84ff7e8f",
       "version_major": 2,
       "version_minor": 0
      },
      "text/plain": [
       "HBox(children=(IntProgress(value=0, max=1000), HTML(value='')))"
      ]
     },
     "metadata": {},
     "output_type": "display_data"
    },
    {
     "name": "stdout",
     "output_type": "stream",
     "text": [
      "\n",
      "(1000, 195)\n",
      "(1000,)\n"
     ]
    }
   ],
   "source": [
    "def concatenate(dataset):\n",
    "    X = []\n",
    "    Y = []\n",
    "    for sample_idx, (x, y) in tqdm_notebook(enumerate(dataset), total=len(dataset)):\n",
    "        x = np.hstack((\n",
    "            x.mean(axis=2), \n",
    "            x.std(axis=2), \n",
    "            x.max(axis=2),\n",
    "            kurtosis(x, axis=2),\n",
    "            skew(x, axis=2),\n",
    "        ))\n",
    "        X.append(x)\n",
    "        Y.append(y)\n",
    "    X = np.vstack(X)\n",
    "    Y = np.array(Y).flatten()\n",
    "    return X, Y\n",
    "\n",
    "X, Y = concatenate(dataset)\n",
    "print(X.shape)\n",
    "print(Y.shape)"
   ]
  },
  {
   "cell_type": "code",
   "execution_count": 5,
   "metadata": {},
   "outputs": [
    {
     "name": "stdout",
     "output_type": "stream",
     "text": [
      "SCORES [0.65 0.7  0.85 0.77 0.69 0.71 0.76 0.75 0.63 0.69]\n",
      "AVG: 0.7200000000000001\n",
      "STD: 0.06099180272790762\n"
     ]
    }
   ],
   "source": [
    "scores = cross_validate(SVC(C=2), scale(X), Y, cv=10, n_jobs=-1)\n",
    "print('SCORES', scores['test_score'])\n",
    "print('AVG:', scores['test_score'].mean())\n",
    "print('STD:', scores['test_score'].std())"
   ]
  },
  {
   "cell_type": "markdown",
   "metadata": {},
   "source": [
    "70.5%(13, Without Max)"
   ]
  }
 ],
 "metadata": {
  "kernelspec": {
   "display_name": "Python 3",
   "language": "python",
   "name": "python3"
  },
  "language_info": {
   "codemirror_mode": {
    "name": "ipython",
    "version": 3
   },
   "file_extension": ".py",
   "mimetype": "text/x-python",
   "name": "python",
   "nbconvert_exporter": "python",
   "pygments_lexer": "ipython3",
   "version": "3.6.6"
  }
 },
 "nbformat": 4,
 "nbformat_minor": 2
}
