{
 "cells": [
  {
   "cell_type": "code",
   "execution_count": 1,
   "metadata": {},
   "outputs": [],
   "source": [
    "import os\n",
    "import os.path as osp\n",
    "import sys\n",
    "from itertools import combinations\n",
    "sys.path.append(osp.abspath('..'))\n",
    "\n",
    "import numpy as np\n",
    "from tqdm import tqdm_notebook\n",
    "from sklearn.preprocessing import normalize\n",
    "from sklearn.model_selection import GridSearchCV\n",
    "from sklearn.svm import LinearSVC\n",
    "from sklearn.metrics import accuracy_score\n",
    "\n",
    "import config\n",
    "from datasets.gtzan import GTZAN_SPEC\n",
    "\n",
    "%load_ext autoreload\n",
    "%autoreload 2"
   ]
  },
  {
   "cell_type": "code",
   "execution_count": 2,
   "metadata": {},
   "outputs": [],
   "source": [
    "# Random seeds\n",
    "np.random.seed(1234)\n",
    "MIN_SEGMENTS = 1"
   ]
  },
  {
   "cell_type": "code",
   "execution_count": 3,
   "metadata": {},
   "outputs": [
    {
     "name": "stdout",
     "output_type": "stream",
     "text": [
      "Train: 400\n",
      "Test: 100\n",
      "Shape: (3, 221, 51)\n"
     ]
    }
   ],
   "source": [
    "train_set = GTZAN_SPEC(phase='val', test_size=0.1, val_size=0.4,\n",
    "                       min_segments=MIN_SEGMENTS, randomized=True)\n",
    "test_set = GTZAN_SPEC(phase='test', test_size=0.1, val_size=0.4, min_segments=MIN_SEGMENTS)\n",
    "\n",
    "print('Train:', len(train_set))\n",
    "print('Test:', len(test_set))\n",
    "print('Shape:', train_set[0][0].shape)"
   ]
  },
  {
   "cell_type": "code",
   "execution_count": null,
   "metadata": {},
   "outputs": [],
   "source": [
    "# aggregate over all frames, calculate simple summary statistics\n",
    "# such as average, max or standard deviation for each channel\n",
    "x_train = np.empty((400 * MIN_SEGMENTS, 221 * 3))\n",
    "y_train = np.empty((400 * MIN_SEGMENTS,))\n",
    "x_test = np.empty((100 * MIN_SEGMENTS, 221 * 3))\n",
    "y_test = np.empty((100 * MIN_SEGMENTS,))\n",
    " \n",
    "\n",
    "def populate_features(src_dataset, dst_x, dst_y):\n",
    "    for sample_idx, (x, y) in tqdm_notebook(enumerate(src_dataset), total=len(src_dataset)):\n",
    "        for segment_idx, x_ in enumerate(x):\n",
    "            mean = []\n",
    "            max = []\n",
    "            std = []\n",
    "            mean = np.mean(x_, axis=1)\n",
    "            max = np.max(x_, axis=1)\n",
    "            std = np.std(x_, axis=1)\n",
    "            idx = sample_idx * MIN_SEGMENTS + segment_idx\n",
    "            dst_x[idx:idx+1] = np.hstack((mean, max, std))\n",
    "            dst_y[idx] = y\n",
    "\n",
    "populate_features(train_set, x_train, y_train)\n",
    "populate_features(test_set, x_test, y_test)"
   ]
  },
  {
   "cell_type": "code",
   "execution_count": null,
   "metadata": {},
   "outputs": [],
   "source": [
    "COL_SIZE = 221\n",
    "cols_selections = tuple({\n",
    "    'mean': np.arange(COL_SIZE),\n",
    "    'max': np.arange(COL_SIZE, COL_SIZE * 2),\n",
    "    'std': np.arange(COL_SIZE * 2, COL_SIZE * 3)\n",
    "}.items())\n",
    "\n",
    "NORMALIZE = False\n",
    "for num_combs in range(1, 4):\n",
    "    for cols in combinations(cols_selections, num_combs):\n",
    "        names = [col[0] for col in cols]\n",
    "        print('Features:', ' '.join(names))\n",
    "        cols = [col[1] for col in cols]\n",
    "        cols = np.hstack(cols)\n",
    "        x_train_ = np.take(x_train, cols, axis=1)\n",
    "        x_test_ = np.take(x_test, cols, axis=1)\n",
    "        \n",
    "        if NORMALIZE:\n",
    "            x_train_ = normalize(x_train_)\n",
    "            x_test_ = normalize(x_test_)\n",
    "\n",
    "        params = {\n",
    "            'C': [10**x for x in range(-3, 3)],\n",
    "            #'gamma': [10**x for x in range(-8, 0)],\n",
    "            'random_state': [1234],\n",
    "        }\n",
    "\n",
    "        rs = GridSearchCV(LinearSVC(), params, n_jobs=-1, cv=10, verbose=0)\n",
    "        rs.fit(x_train_, y_train)\n",
    "        # print(rs.best_score_)\n",
    "        # print(rs.best_params_)\n",
    "\n",
    "        svm = LinearSVC(**rs.best_params_)\n",
    "        svm.fit(x_train_, y_train)\n",
    "\n",
    "        \n",
    "        print('Train score:', accuracy_score(y_train, svm.predict(x_train_)))\n",
    "        print('Test score:', accuracy_score(y_test, svm.predict(x_test_)))"
   ]
  }
 ],
 "metadata": {
  "kernelspec": {
   "display_name": "Python 3",
   "language": "python",
   "name": "python3"
  },
  "language_info": {
   "codemirror_mode": {
    "name": "ipython",
    "version": 3
   },
   "file_extension": ".py",
   "mimetype": "text/x-python",
   "name": "python",
   "nbconvert_exporter": "python",
   "pygments_lexer": "ipython3",
   "version": "3.6.6"
  }
 },
 "nbformat": 4,
 "nbformat_minor": 2
}
