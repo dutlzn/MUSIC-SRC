{
 "cells": [
  {
   "cell_type": "code",
   "execution_count": 1,
   "metadata": {},
   "outputs": [],
   "source": [
    "import os\n",
    "import os.path as osp\n",
    "import sys\n",
    "from itertools import combinations\n",
    "sys.path.append(osp.abspath('..'))\n",
    "\n",
    "import numpy as np\n",
    "from tqdm import tqdm_notebook\n",
    "from sklearn.preprocessing import normalize\n",
    "from sklearn.model_selection import GridSearchCV\n",
    "from sklearn.svm import LinearSVC as SVCMClass\n",
    "from sklearn.metrics import accuracy_score\n",
    "\n",
    "import config\n",
    "from datasets.gtzan import GTZAN_SPEC\n",
    "\n",
    "%load_ext autoreload\n",
    "%autoreload 2"
   ]
  },
  {
   "cell_type": "code",
   "execution_count": 2,
   "metadata": {},
   "outputs": [],
   "source": [
    "# Random seeds\n",
    "np.random.seed(1234)\n",
    "MIN_SEGMENTS = 2"
   ]
  },
  {
   "cell_type": "code",
   "execution_count": 8,
   "metadata": {},
   "outputs": [
    {
     "name": "stdout",
     "output_type": "stream",
     "text": [
      "Train: 400\n",
      "Test: 100\n",
      "Shape: (2, 221, 301)\n"
     ]
    }
   ],
   "source": [
    "train_set = GTZAN_SPEC(phase='val', test_size=0.1, val_size=0.4,\n",
    "                       min_segments=MIN_SEGMENTS, randomized=True)\n",
    "test_set = GTZAN_SPEC(phase='test', test_size=0.1, val_size=0.4, min_segments=MIN_SEGMENTS)\n",
    "\n",
    "print('Train:', len(train_set))\n",
    "print('Test:', len(test_set))\n",
    "print('Shape:', train_set[0][0].shape)"
   ]
  },
  {
   "cell_type": "code",
   "execution_count": 4,
   "metadata": {},
   "outputs": [],
   "source": [
    "def concatenate_data(*datasets):\n",
    "    X = []\n",
    "    for dataset in datasets:\n",
    "        for sample_idx, (x, _) in tqdm_notebook(enumerate(dataset), total=len(dataset)):\n",
    "            for x_ in x:\n",
    "                X.append(x_)\n",
    "    X = np.concatenate(X, axis=1)\n",
    "    return X\n",
    "\n",
    "Ewhiten = None\n",
    "if not osp.exists('pca_whiten_mat.npy'):\n",
    "    X = concatenate_data(train_set)\n",
    "\n",
    "    # PCA whiten\n",
    "    Xcov = X.dot(X.T) / X.shape[1]\n",
    "    num_features = Xcov.shape[0]\n",
    "    eigen_values, eigen_vectors = np.linalg.eigh(Xcov)\n",
    "\n",
    "    E = eigen_vectors[:, num_features:num_features-NUM_PRINCIPAL_FEATURES-1:-1]\n",
    "    S = np.diag(eigen_values[num_features:num_features-NUM_PRINCIPAL_FEATURES-1:-1])\n",
    "\n",
    "    Xpc = E.T.dot(X)\n",
    "    Xrec = E.dot(Xpc)\n",
    "\n",
    "    Ewhiten = np.diag(1. / np.sqrt((np.diag(S)+SIGMA_PC))).dot(E.T)\n",
    "    Eunwhiten = E.dot(np.diag(np.sqrt(np.diag(S)+SIGMA_PC)))\n",
    "\n",
    "    Xrec2 = Eunwhiten.dot(Ewhiten).dot(X)\n",
    "    \n",
    "    plt.figure(figsize=(16, 32))\n",
    "    plt.subplot(1, 3, 1)\n",
    "    plt.imshow(X[:, :301], cmap='hot')\n",
    "    plt.subplot(1, 3, 2)\n",
    "    plt.imshow(Xrec[:, :301], cmap='hot')\n",
    "    plt.subplot(1, 3, 3)\n",
    "    plt.imshow(Xrec2[:, :301], cmap='hot')\n",
    "    plt.show()\n",
    "    \n",
    "    with open('pca_whiten_mat.npy', 'wb') as f:\n",
    "        np.save(f, Ewhiten)\n",
    "else:\n",
    "    with open('pca_whiten_mat.npy', 'rb') as f:\n",
    "        Ewhiten = np.load(f)\n",
    "assert Ewhiten is not None"
   ]
  },
  {
   "cell_type": "code",
   "execution_count": 9,
   "metadata": {},
   "outputs": [
    {
     "data": {
      "application/vnd.jupyter.widget-view+json": {
       "model_id": "8f4bc9fc6aa847d68141376abbb71164",
       "version_major": 2,
       "version_minor": 0
      },
      "text/plain": [
       "HBox(children=(IntProgress(value=0, max=400), HTML(value='')))"
      ]
     },
     "metadata": {},
     "output_type": "display_data"
    },
    {
     "name": "stdout",
     "output_type": "stream",
     "text": [
      "\n"
     ]
    },
    {
     "data": {
      "application/vnd.jupyter.widget-view+json": {
       "model_id": "639e2c4ebca048768c41925df48e1002",
       "version_major": 2,
       "version_minor": 0
      },
      "text/plain": [
       "HBox(children=(IntProgress(value=0), HTML(value='')))"
      ]
     },
     "metadata": {},
     "output_type": "display_data"
    },
    {
     "name": "stdout",
     "output_type": "stream",
     "text": [
      "\n"
     ]
    }
   ],
   "source": [
    "# aggregate over all frames, calculate simple summary statistics\n",
    "# such as average, max or standard deviation for each channel\n",
    "x_train = np.empty((400 * MIN_SEGMENTS, 80 * 301))\n",
    "y_train = np.empty((400 * MIN_SEGMENTS,))\n",
    "x_test = np.empty((100 * MIN_SEGMENTS, 80 * 301))\n",
    "y_test = np.empty((100 * MIN_SEGMENTS,))\n",
    " \n",
    "\n",
    "def populate_features(src_dataset, dst_x, dst_y):\n",
    "    for sample_idx, (x, y) in tqdm_notebook(enumerate(src_dataset), total=len(src_dataset)):\n",
    "        for segment_idx, x_ in enumerate(x):\n",
    "            idx = sample_idx * MIN_SEGMENTS + segment_idx\n",
    "            dst_x[idx] = Ewhiten.dot(x_).flatten()\n",
    "            dst_y[idx] = y\n",
    "\n",
    "populate_features(train_set, x_train, y_train)\n",
    "populate_features(test_set, x_test, y_test)"
   ]
  },
  {
   "cell_type": "code",
   "execution_count": 10,
   "metadata": {},
   "outputs": [
    {
     "name": "stdout",
     "output_type": "stream",
     "text": [
      "Fitting 3 folds for each of 6 candidates, totalling 18 fits\n"
     ]
    },
    {
     "name": "stderr",
     "output_type": "stream",
     "text": [
      "[Parallel(n_jobs=-1)]: Done  18 out of  18 | elapsed:   32.2s finished\n"
     ]
    },
    {
     "name": "stdout",
     "output_type": "stream",
     "text": [
      "0.37375\n",
      "{'C': 0.001, 'random_state': 1234}\n"
     ]
    }
   ],
   "source": [
    "params = {\n",
    "    'C': [10**x for x in range(-3, 3)],\n",
    "    #'gamma': [10**x for x in range(-4, 0)],\n",
    "    'random_state': [1234],\n",
    "}\n",
    "\n",
    "rs = GridSearchCV(SVCMClass(), params, n_jobs=-1, verbose=1)\n",
    "rs.fit(x_train, y_train)\n",
    "print(rs.best_score_)\n",
    "print(rs.best_params_)"
   ]
  },
  {
   "cell_type": "code",
   "execution_count": 11,
   "metadata": {},
   "outputs": [
    {
     "name": "stdout",
     "output_type": "stream",
     "text": [
      "Train score: 0.9975\n",
      "Test score: 0.385\n"
     ]
    }
   ],
   "source": [
    "svm = SVCMClass(**rs.best_params_)\n",
    "svm.fit(x_train, y_train)\n",
    "\n",
    "print('Train score:', accuracy_score(y_train, svm.predict(x_train)))\n",
    "print('Test score:', accuracy_score(y_test, svm.predict(x_test)))"
   ]
  },
  {
   "cell_type": "code",
   "execution_count": null,
   "metadata": {},
   "outputs": [],
   "source": []
  }
 ],
 "metadata": {
  "kernelspec": {
   "display_name": "Python 3",
   "language": "python",
   "name": "python3"
  },
  "language_info": {
   "codemirror_mode": {
    "name": "ipython",
    "version": 3
   },
   "file_extension": ".py",
   "mimetype": "text/x-python",
   "name": "python",
   "nbconvert_exporter": "python",
   "pygments_lexer": "ipython3",
   "version": "3.6.6"
  }
 },
 "nbformat": 4,
 "nbformat_minor": 2
}
