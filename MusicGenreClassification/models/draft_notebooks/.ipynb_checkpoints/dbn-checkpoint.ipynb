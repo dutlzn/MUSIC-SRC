{
 "cells": [
  {
   "cell_type": "code",
   "execution_count": 1,
   "metadata": {},
   "outputs": [],
   "source": [
    "import os\n",
    "import os.path as osp\n",
    "import sys\n",
    "sys.path.append(osp.abspath('..'))\n",
    "\n",
    "import matplotlib.pyplot as plt\n",
    "import numpy as np\n",
    "import scipy\n",
    "import torch\n",
    "import torch.cuda as cuda\n",
    "import torch.nn.functional as F\n",
    "from tqdm import tqdm_notebook, tqdm\n",
    "from torch.utils.data import DataLoader\n",
    "from torchvision.transforms import Compose, Lambda\n",
    "\n",
    "import config\n",
    "from datasets.gtzan import GTZAN_SPEC\n",
    "from dbn import DBN\n",
    "\n",
    "%load_ext autoreload\n",
    "%autoreload 2"
   ]
  },
  {
   "cell_type": "code",
   "execution_count": 2,
   "metadata": {},
   "outputs": [],
   "source": [
    "# Random seeds\n",
    "torch.manual_seed(1234)\n",
    "cuda.manual_seed_all(1234)\n",
    "np.random.seed(1234)\n",
    "\n",
    "NUM_SEGMENTS = 10\n",
    "NUM_PRINCIPAL_FEATURES = 80\n",
    "SIGMA_PC = 3  # 1e-5\n",
    "EPOCHS = 100\n",
    "LR = 1e-3\n",
    "INITIAL_MOMENTUM = 0.5\n",
    "EPOCHS_FOR_INITIAL_MOMENTUM = 100\n",
    "FINAL_MOMENTUM = 0.8\n",
    "SPARSITY = 0.04\n",
    "\n",
    "DEVICE = torch.device('cuda:0')"
   ]
  },
  {
   "cell_type": "code",
   "execution_count": 3,
   "metadata": {},
   "outputs": [
    {
     "name": "stdout",
     "output_type": "stream",
     "text": [
      "Train: 500\n",
      "Test: 500\n",
      "Shape: (10, 221, 301)\n"
     ]
    }
   ],
   "source": [
    "train_set = GTZAN_SPEC(phase='train', test_size=0.5,\n",
    "                       min_segments=NUM_SEGMENTS, randomized=True)\n",
    "test_set = GTZAN_SPEC(phase='test', test_size=0.5, \n",
    "                      min_segments=NUM_SEGMENTS)\n",
    "\n",
    "print('Train:', len(train_set))\n",
    "print('Test:', len(test_set))\n",
    "print('Shape:', train_set[0][0].shape)"
   ]
  },
  {
   "cell_type": "code",
   "execution_count": 4,
   "metadata": {},
   "outputs": [],
   "source": [
    "def concatenate_data(*datasets):\n",
    "    X = []\n",
    "    for dataset in datasets:\n",
    "        for sample_idx, (x, _) in tqdm_notebook(enumerate(dataset), total=len(dataset)):\n",
    "            for x_ in x:\n",
    "                X.append(x_)\n",
    "    X = np.concatenate(X, axis=1)\n",
    "    return X\n",
    "\n",
    "Ewhiten = None\n",
    "if not osp.exists('pca_whiten_mat.npy'):\n",
    "    X = concatenate_data(train_set)\n",
    "\n",
    "    # PCA whiten\n",
    "    Xcov = X.dot(X.T) / X.shape[1]\n",
    "    num_features = Xcov.shape[0]\n",
    "    eigen_values, eigen_vectors = np.linalg.eigh(Xcov)\n",
    "\n",
    "    E = eigen_vectors[:, num_features:num_features-NUM_PRINCIPAL_FEATURES-1:-1]\n",
    "    S = np.diag(eigen_values[num_features:num_features-NUM_PRINCIPAL_FEATURES-1:-1])\n",
    "\n",
    "    Xpc = E.T.dot(X)\n",
    "    Xrec = E.dot(Xpc)\n",
    "\n",
    "    Ewhiten = np.diag(1. / np.sqrt((np.diag(S)+SIGMA_PC))).dot(E.T)\n",
    "    Eunwhiten = E.dot(np.diag(np.sqrt(np.diag(S)+SIGMA_PC)))\n",
    "\n",
    "    Xrec2 = Eunwhiten.dot(Ewhiten).dot(X)\n",
    "    \n",
    "    plt.figure(figsize=(16, 32))\n",
    "    plt.subplot(1, 3, 1)\n",
    "    plt.imshow(X[:, :301], cmap='hot')\n",
    "    plt.subplot(1, 3, 2)\n",
    "    plt.imshow(Xrec[:, :301], cmap='hot')\n",
    "    plt.subplot(1, 3, 3)\n",
    "    plt.imshow(Xrec2[:, :301], cmap='hot')\n",
    "    plt.show()\n",
    "    \n",
    "    with open('pca_whiten_mat.npy', 'wb') as f:\n",
    "        np.save(f, Ewhiten)\n",
    "else:\n",
    "    with open('pca_whiten_mat.npy', 'rb') as f:\n",
    "        Ewhiten = np.load(f)\n",
    "assert Ewhiten is not None"
   ]
  },
  {
   "cell_type": "code",
   "execution_count": 5,
   "metadata": {},
   "outputs": [],
   "source": [
    "train_loader = DataLoader(train_set, shuffle=True, num_workers=9, pin_memory=True)\n",
    "test_loader = DataLoader(test_set, num_workers=9, pin_memory=True)"
   ]
  },
  {
   "cell_type": "code",
   "execution_count": 6,
   "metadata": {},
   "outputs": [],
   "source": [
    "def train_dbn_layer(dbn, layer, epochs, train_loader, test_loader, device=None,\n",
    "                    initial_momentum=INITIAL_MOMENTUM, final_momentum=FINAL_MOMENTUM,\n",
    "                    epochs_for_initial_momentum=EPOCHS_FOR_INITIAL_MOMENTUM):\n",
    "    with tqdm_notebook(range(1, 1 + epochs), total=epochs) as progress_epoch:\n",
    "        for epoch in progress_epoch:\n",
    "            rbm = dbn.rbms[layer]\n",
    "            if epoch < epochs_for_initial_momentum:\n",
    "                rbm.momentum = initial_momentum\n",
    "            else:\n",
    "                rbm.momentum = final_momentum\n",
    "\n",
    "            # Train\n",
    "            loss = 0\n",
    "            num_batches = 0\n",
    "            with tqdm_notebook(iterable=train_loader, total=len(train_loader)) as progress_batch:\n",
    "                for batch, (x, _) in enumerate(progress_batch, 1):\n",
    "                    for x_ in x[0]:\n",
    "                        x_ = x_.squeeze()\n",
    "                        x_ = Ewhiten.dot(x_)\n",
    "                        x_ = torch.from_numpy(x_)\n",
    "                        x_ = x_.type(torch.FloatTensor)\n",
    "                        x_ = x_.view(-1)[None, ...]\n",
    "                        x_ = x_.to(device)\n",
    "\n",
    "                        batch_error = dbn.train(x_, layer, k=1, epoch=epoch)\n",
    "                        loss += batch_error.item()\n",
    "                        num_batches += 1\n",
    "                    progress_batch.set_postfix(\n",
    "                        epoch=epoch,\n",
    "                        loss='{:.3f}'.format(loss / num_batches))\n",
    "            \n",
    "            # Test\n",
    "            test_loss = 0\n",
    "            num_test_batches = 0\n",
    "            with tqdm_notebook(iterable=test_loader, total=len(test_loader)) as progress_batch:\n",
    "                for batch, (x, _) in enumerate(progress_batch, 1):\n",
    "                    for x_ in x[0]:\n",
    "                        x_ = x_.squeeze()\n",
    "                        x_ = Ewhiten.dot(x_)\n",
    "                        x_ = torch.from_numpy(x_)\n",
    "                        x_ = x_.type(torch.FloatTensor)\n",
    "                        x_ = x_.view(-1)[None, ...]\n",
    "                        x_ = x_.to(device)\n",
    "                        \n",
    "                        batch_error = dbn.reconstruct(x_, layer+1)[1]\n",
    "                        test_loss += batch_error.item()\n",
    "                        num_test_batches += 1\n",
    "                    progress_batch.set_postfix(\n",
    "                        epoch=epoch,\n",
    "                        test_loss='{:.3f}'.format(test_loss / num_test_batches))\n",
    "            \n",
    "            loss = loss / num_batches\n",
    "            test_loss = test_loss / num_test_batches\n",
    "            progress_epoch.set_postfix(\n",
    "                loss='{:.3f}'.format(loss),\n",
    "                test_loss='{:.3f}'.format(test_loss))\n",
    "            \n",
    "            if epoch % 10 == 0:\n",
    "                with open('dbn_checkpoints/checkpoint_layer_{}_epoch_{}.pt'.format(layer, epoch), 'wb') as f:\n",
    "                    torch.save(dbn, f)\n",
    "            with open('dbn_train.log', 'a') as f:\n",
    "                f.write('Layer: {} Epoch: {:4d} Loss: {:.3f} Test Loss: {:.3f}\\n'.format(\n",
    "                    layer, epoch, loss, test_loss))"
   ]
  },
  {
   "cell_type": "code",
   "execution_count": 7,
   "metadata": {},
   "outputs": [],
   "source": [
    "dbn = DBN(24080, [512, 256], device=DEVICE)"
   ]
  },
  {
   "cell_type": "code",
   "execution_count": null,
   "metadata": {
    "scrolled": false
   },
   "outputs": [
    {
     "data": {
      "application/vnd.jupyter.widget-view+json": {
       "model_id": "04638a34983f44cb99b7566987d51aa9",
       "version_major": 2,
       "version_minor": 0
      },
      "text/plain": [
       "HBox(children=(IntProgress(value=0), HTML(value='')))"
      ]
     },
     "metadata": {},
     "output_type": "display_data"
    },
    {
     "data": {
      "application/vnd.jupyter.widget-view+json": {
       "model_id": "c7fb700e6ed640e6a01537444cf2d5dc",
       "version_major": 2,
       "version_minor": 0
      },
      "text/plain": [
       "HBox(children=(IntProgress(value=0, max=500), HTML(value='')))"
      ]
     },
     "metadata": {},
     "output_type": "display_data"
    },
    {
     "data": {
      "application/vnd.jupyter.widget-view+json": {
       "model_id": "61799e1af0ba426fbbc2149a12cae7aa",
       "version_major": 2,
       "version_minor": 0
      },
      "text/plain": [
       "HBox(children=(IntProgress(value=0, max=500), HTML(value='')))"
      ]
     },
     "metadata": {},
     "output_type": "display_data"
    },
    {
     "data": {
      "application/vnd.jupyter.widget-view+json": {
       "model_id": "715b776fb4734811b3ef4914d3c79fd8",
       "version_major": 2,
       "version_minor": 0
      },
      "text/plain": [
       "HBox(children=(IntProgress(value=0, max=500), HTML(value='')))"
      ]
     },
     "metadata": {},
     "output_type": "display_data"
    },
    {
     "data": {
      "application/vnd.jupyter.widget-view+json": {
       "model_id": "a9edf3d114884620a4910f4847cc6268",
       "version_major": 2,
       "version_minor": 0
      },
      "text/plain": [
       "HBox(children=(IntProgress(value=0, max=500), HTML(value='')))"
      ]
     },
     "metadata": {},
     "output_type": "display_data"
    },
    {
     "data": {
      "application/vnd.jupyter.widget-view+json": {
       "model_id": "0980922a97db4510a2b5aeea744e8029",
       "version_major": 2,
       "version_minor": 0
      },
      "text/plain": [
       "HBox(children=(IntProgress(value=0, max=500), HTML(value='')))"
      ]
     },
     "metadata": {},
     "output_type": "display_data"
    },
    {
     "data": {
      "application/vnd.jupyter.widget-view+json": {
       "model_id": "91486df905a04a199012bb026ba1e17a",
       "version_major": 2,
       "version_minor": 0
      },
      "text/plain": [
       "HBox(children=(IntProgress(value=0, max=500), HTML(value='')))"
      ]
     },
     "metadata": {},
     "output_type": "display_data"
    },
    {
     "data": {
      "application/vnd.jupyter.widget-view+json": {
       "model_id": "62c29ba44c7841d197c74537b95cc88e",
       "version_major": 2,
       "version_minor": 0
      },
      "text/plain": [
       "HBox(children=(IntProgress(value=0, max=500), HTML(value='')))"
      ]
     },
     "metadata": {},
     "output_type": "display_data"
    },
    {
     "data": {
      "application/vnd.jupyter.widget-view+json": {
       "model_id": "2fb64994ecda4b9993687f70cca9daca",
       "version_major": 2,
       "version_minor": 0
      },
      "text/plain": [
       "HBox(children=(IntProgress(value=0, max=500), HTML(value='')))"
      ]
     },
     "metadata": {},
     "output_type": "display_data"
    },
    {
     "data": {
      "application/vnd.jupyter.widget-view+json": {
       "model_id": "f79b6b5a6d50407bb933310e83029bb8",
       "version_major": 2,
       "version_minor": 0
      },
      "text/plain": [
       "HBox(children=(IntProgress(value=0, max=500), HTML(value='')))"
      ]
     },
     "metadata": {},
     "output_type": "display_data"
    },
    {
     "data": {
      "application/vnd.jupyter.widget-view+json": {
       "model_id": "7b87af5a893e4736a976b0f00cb260eb",
       "version_major": 2,
       "version_minor": 0
      },
      "text/plain": [
       "HBox(children=(IntProgress(value=0, max=500), HTML(value='')))"
      ]
     },
     "metadata": {},
     "output_type": "display_data"
    },
    {
     "data": {
      "application/vnd.jupyter.widget-view+json": {
       "model_id": "b5db8017a2264547861d3c5b387cb78e",
       "version_major": 2,
       "version_minor": 0
      },
      "text/plain": [
       "HBox(children=(IntProgress(value=0, max=500), HTML(value='')))"
      ]
     },
     "metadata": {},
     "output_type": "display_data"
    },
    {
     "data": {
      "application/vnd.jupyter.widget-view+json": {
       "model_id": "18e0570baff94bf1b74f9b5741f56e78",
       "version_major": 2,
       "version_minor": 0
      },
      "text/plain": [
       "HBox(children=(IntProgress(value=0, max=500), HTML(value='')))"
      ]
     },
     "metadata": {},
     "output_type": "display_data"
    },
    {
     "data": {
      "application/vnd.jupyter.widget-view+json": {
       "model_id": "ddc26c604829414588b5dc3c12f6aca6",
       "version_major": 2,
       "version_minor": 0
      },
      "text/plain": [
       "HBox(children=(IntProgress(value=0, max=500), HTML(value='')))"
      ]
     },
     "metadata": {},
     "output_type": "display_data"
    },
    {
     "data": {
      "application/vnd.jupyter.widget-view+json": {
       "model_id": "c509c85e7ca04da99af49bba1db350e7",
       "version_major": 2,
       "version_minor": 0
      },
      "text/plain": [
       "HBox(children=(IntProgress(value=0, max=500), HTML(value='')))"
      ]
     },
     "metadata": {},
     "output_type": "display_data"
    },
    {
     "data": {
      "application/vnd.jupyter.widget-view+json": {
       "model_id": "0cae2f5456b340f68589af9e26b2d070",
       "version_major": 2,
       "version_minor": 0
      },
      "text/plain": [
       "HBox(children=(IntProgress(value=0, max=500), HTML(value='')))"
      ]
     },
     "metadata": {},
     "output_type": "display_data"
    },
    {
     "data": {
      "application/vnd.jupyter.widget-view+json": {
       "model_id": "4894a44be9f24a7a91b37c6fb6a58669",
       "version_major": 2,
       "version_minor": 0
      },
      "text/plain": [
       "HBox(children=(IntProgress(value=0, max=500), HTML(value='')))"
      ]
     },
     "metadata": {},
     "output_type": "display_data"
    },
    {
     "data": {
      "application/vnd.jupyter.widget-view+json": {
       "model_id": "f713da2f99b5440b817a83b244e3357b",
       "version_major": 2,
       "version_minor": 0
      },
      "text/plain": [
       "HBox(children=(IntProgress(value=0, max=500), HTML(value='')))"
      ]
     },
     "metadata": {},
     "output_type": "display_data"
    },
    {
     "data": {
      "application/vnd.jupyter.widget-view+json": {
       "model_id": "a37017ea89944713a064b0e6948f4965",
       "version_major": 2,
       "version_minor": 0
      },
      "text/plain": [
       "HBox(children=(IntProgress(value=0, max=500), HTML(value='')))"
      ]
     },
     "metadata": {},
     "output_type": "display_data"
    },
    {
     "data": {
      "application/vnd.jupyter.widget-view+json": {
       "model_id": "14fb8b0ad30443a59133b4e89ac54c44",
       "version_major": 2,
       "version_minor": 0
      },
      "text/plain": [
       "HBox(children=(IntProgress(value=0, max=500), HTML(value='')))"
      ]
     },
     "metadata": {},
     "output_type": "display_data"
    },
    {
     "data": {
      "application/vnd.jupyter.widget-view+json": {
       "model_id": "61433ff31e9442428e5c4cfd4c68d959",
       "version_major": 2,
       "version_minor": 0
      },
      "text/plain": [
       "HBox(children=(IntProgress(value=0, max=500), HTML(value='')))"
      ]
     },
     "metadata": {},
     "output_type": "display_data"
    },
    {
     "data": {
      "application/vnd.jupyter.widget-view+json": {
       "model_id": "c79e470fc4274382b46afd687ff4d340",
       "version_major": 2,
       "version_minor": 0
      },
      "text/plain": [
       "HBox(children=(IntProgress(value=0, max=500), HTML(value='')))"
      ]
     },
     "metadata": {},
     "output_type": "display_data"
    },
    {
     "data": {
      "application/vnd.jupyter.widget-view+json": {
       "model_id": "d50f05dd11744aaaaec7294ce4c786f0",
       "version_major": 2,
       "version_minor": 0
      },
      "text/plain": [
       "HBox(children=(IntProgress(value=0, max=500), HTML(value='')))"
      ]
     },
     "metadata": {},
     "output_type": "display_data"
    },
    {
     "data": {
      "application/vnd.jupyter.widget-view+json": {
       "model_id": "7844287c762541ce999b2c88006fdcfa",
       "version_major": 2,
       "version_minor": 0
      },
      "text/plain": [
       "HBox(children=(IntProgress(value=0, max=500), HTML(value='')))"
      ]
     },
     "metadata": {},
     "output_type": "display_data"
    },
    {
     "data": {
      "application/vnd.jupyter.widget-view+json": {
       "model_id": "d9ce064da3bc4dc094e84789d0120d0a",
       "version_major": 2,
       "version_minor": 0
      },
      "text/plain": [
       "HBox(children=(IntProgress(value=0, max=500), HTML(value='')))"
      ]
     },
     "metadata": {},
     "output_type": "display_data"
    },
    {
     "data": {
      "application/vnd.jupyter.widget-view+json": {
       "model_id": "e22a5ed5b6f3471f8bf1b6cd528ff898",
       "version_major": 2,
       "version_minor": 0
      },
      "text/plain": [
       "HBox(children=(IntProgress(value=0, max=500), HTML(value='')))"
      ]
     },
     "metadata": {},
     "output_type": "display_data"
    },
    {
     "data": {
      "application/vnd.jupyter.widget-view+json": {
       "model_id": "81f8a1af8ead4810984a570e27d73c3d",
       "version_major": 2,
       "version_minor": 0
      },
      "text/plain": [
       "HBox(children=(IntProgress(value=0, max=500), HTML(value='')))"
      ]
     },
     "metadata": {},
     "output_type": "display_data"
    },
    {
     "data": {
      "application/vnd.jupyter.widget-view+json": {
       "model_id": "82a3c63561b14511b93062bf82f5b043",
       "version_major": 2,
       "version_minor": 0
      },
      "text/plain": [
       "HBox(children=(IntProgress(value=0, max=500), HTML(value='')))"
      ]
     },
     "metadata": {},
     "output_type": "display_data"
    },
    {
     "data": {
      "application/vnd.jupyter.widget-view+json": {
       "model_id": "42201de9caac43aebd45a1103685c6a5",
       "version_major": 2,
       "version_minor": 0
      },
      "text/plain": [
       "HBox(children=(IntProgress(value=0, max=500), HTML(value='')))"
      ]
     },
     "metadata": {},
     "output_type": "display_data"
    },
    {
     "data": {
      "application/vnd.jupyter.widget-view+json": {
       "model_id": "a586e7cb5e394d708b93446e31db5360",
       "version_major": 2,
       "version_minor": 0
      },
      "text/plain": [
       "HBox(children=(IntProgress(value=0, max=500), HTML(value='')))"
      ]
     },
     "metadata": {},
     "output_type": "display_data"
    },
    {
     "data": {
      "application/vnd.jupyter.widget-view+json": {
       "model_id": "9fa7eaff393e4923827e9dcb4a2f47fb",
       "version_major": 2,
       "version_minor": 0
      },
      "text/plain": [
       "HBox(children=(IntProgress(value=0, max=500), HTML(value='')))"
      ]
     },
     "metadata": {},
     "output_type": "display_data"
    },
    {
     "data": {
      "application/vnd.jupyter.widget-view+json": {
       "model_id": "602123a795d14834b988657a601261c5",
       "version_major": 2,
       "version_minor": 0
      },
      "text/plain": [
       "HBox(children=(IntProgress(value=0, max=500), HTML(value='')))"
      ]
     },
     "metadata": {},
     "output_type": "display_data"
    },
    {
     "data": {
      "application/vnd.jupyter.widget-view+json": {
       "model_id": "89cdb66e32ff441182dcd7aabfedd2b7",
       "version_major": 2,
       "version_minor": 0
      },
      "text/plain": [
       "HBox(children=(IntProgress(value=0, max=500), HTML(value='')))"
      ]
     },
     "metadata": {},
     "output_type": "display_data"
    },
    {
     "data": {
      "application/vnd.jupyter.widget-view+json": {
       "model_id": "dbbea1d87863449f98c674bb195cc334",
       "version_major": 2,
       "version_minor": 0
      },
      "text/plain": [
       "HBox(children=(IntProgress(value=0, max=500), HTML(value='')))"
      ]
     },
     "metadata": {},
     "output_type": "display_data"
    },
    {
     "data": {
      "application/vnd.jupyter.widget-view+json": {
       "model_id": "62adf768e76c46379754477819b14985",
       "version_major": 2,
       "version_minor": 0
      },
      "text/plain": [
       "HBox(children=(IntProgress(value=0, max=500), HTML(value='')))"
      ]
     },
     "metadata": {},
     "output_type": "display_data"
    },
    {
     "data": {
      "application/vnd.jupyter.widget-view+json": {
       "model_id": "f3c77dcd74574656834c3648be93156b",
       "version_major": 2,
       "version_minor": 0
      },
      "text/plain": [
       "HBox(children=(IntProgress(value=0, max=500), HTML(value='')))"
      ]
     },
     "metadata": {},
     "output_type": "display_data"
    },
    {
     "data": {
      "application/vnd.jupyter.widget-view+json": {
       "model_id": "7ab8c9b4fe384cffb241dd54f484ddb8",
       "version_major": 2,
       "version_minor": 0
      },
      "text/plain": [
       "HBox(children=(IntProgress(value=0, max=500), HTML(value='')))"
      ]
     },
     "metadata": {},
     "output_type": "display_data"
    },
    {
     "data": {
      "application/vnd.jupyter.widget-view+json": {
       "model_id": "968aca57f18f40dc869d1208ec2d85c5",
       "version_major": 2,
       "version_minor": 0
      },
      "text/plain": [
       "HBox(children=(IntProgress(value=0, max=500), HTML(value='')))"
      ]
     },
     "metadata": {},
     "output_type": "display_data"
    }
   ],
   "source": [
    "train_dbn_layer(dbn, 0, EPOCHS, train_loader, test_loader, device=DEVICE)"
   ]
  },
  {
   "cell_type": "markdown",
   "metadata": {},
   "source": [
    "train_cdbn_layer(cdbn, 1, EPOCHS, train_loader, test_loader, device=DEVICE)"
   ]
  },
  {
   "cell_type": "code",
   "execution_count": null,
   "metadata": {},
   "outputs": [],
   "source": []
  }
 ],
 "metadata": {
  "kernelspec": {
   "display_name": "Python 3",
   "language": "python",
   "name": "python3"
  },
  "language_info": {
   "codemirror_mode": {
    "name": "ipython",
    "version": 3
   },
   "file_extension": ".py",
   "mimetype": "text/x-python",
   "name": "python",
   "nbconvert_exporter": "python",
   "pygments_lexer": "ipython3",
   "version": "3.6.6"
  }
 },
 "nbformat": 4,
 "nbformat_minor": 2
}
