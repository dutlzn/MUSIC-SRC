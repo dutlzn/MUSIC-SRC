{
 "cells": [
  {
   "cell_type": "code",
   "execution_count": 1,
   "metadata": {},
   "outputs": [],
   "source": [
    "import os\n",
    "import os.path as osp\n",
    "import sys\n",
    "from itertools import combinations\n",
    "sys.path.append(osp.abspath('..'))\n",
    "\n",
    "import numpy as np\n",
    "import scipy\n",
    "from tqdm import tqdm_notebook\n",
    "from sklearn.calibration import CalibratedClassifierCV\n",
    "from sklearn.linear_model import LogisticRegression\n",
    "from sklearn.metrics import accuracy_score\n",
    "from sklearn.model_selection import GridSearchCV\n",
    "from sklearn.preprocessing import scale\n",
    "from sklearn.svm import LinearSVC, SVC\n",
    "\n",
    "\n",
    "import config\n",
    "from datasets.gtzan import GTZAN_MFCC\n",
    "\n",
    "%load_ext autoreload\n",
    "%autoreload 2"
   ]
  },
  {
   "cell_type": "code",
   "execution_count": 2,
   "metadata": {},
   "outputs": [],
   "source": [
    "# Random seeds\n",
    "np.random.seed(1234)\n",
    "MIN_SEGMENTS = 5\n",
    "TEST_SEGMENTS = 10"
   ]
  },
  {
   "cell_type": "code",
   "execution_count": 3,
   "metadata": {},
   "outputs": [
    {
     "name": "stdout",
     "output_type": "stream",
     "text": [
      "Train: 400\n",
      "Test: 100\n",
      "Shape: (5, 60, 201)\n"
     ]
    }
   ],
   "source": [
    "train_set = GTZAN_MFCC(phase='val', test_size=0.1, val_size=0.4,\n",
    "                       min_segments=MIN_SEGMENTS, randomized=True)\n",
    "test_set = GTZAN_MFCC(phase='test', test_size=0.1, val_size=0.4, min_segments=TEST_SEGMENTS)\n",
    "\n",
    "_, C, F = train_set[0][0].shape\n",
    "print('Train:', len(train_set))\n",
    "print('Test:', len(test_set))\n",
    "print('Shape:', train_set[0][0].shape)"
   ]
  },
  {
   "cell_type": "code",
   "execution_count": 4,
   "metadata": {},
   "outputs": [
    {
     "data": {
      "application/vnd.jupyter.widget-view+json": {
       "model_id": "6599bb750f9743178d50e57aaeff5e42",
       "version_major": 2,
       "version_minor": 0
      },
      "text/plain": [
       "HBox(children=(IntProgress(value=0, max=400), HTML(value='')))"
      ]
     },
     "metadata": {},
     "output_type": "display_data"
    },
    {
     "name": "stdout",
     "output_type": "stream",
     "text": [
      "\n"
     ]
    },
    {
     "data": {
      "application/vnd.jupyter.widget-view+json": {
       "model_id": "797f40c83d564758b974934aadd6cd02",
       "version_major": 2,
       "version_minor": 0
      },
      "text/plain": [
       "HBox(children=(IntProgress(value=0), HTML(value='')))"
      ]
     },
     "metadata": {},
     "output_type": "display_data"
    },
    {
     "name": "stdout",
     "output_type": "stream",
     "text": [
      "\n",
      "(2000, 180)\n",
      "(500, 180)\n"
     ]
    }
   ],
   "source": [
    "def concatenate(dataset):\n",
    "    X = []\n",
    "    Y = []\n",
    "    for sample_idx, (x, y) in tqdm_notebook(enumerate(dataset), total=len(dataset)):\n",
    "        N, C, F = x.shape\n",
    "        mean = x.mean(axis=2)\n",
    "        std = x.std(axis=2)\n",
    "        max = x.max(axis=2)\n",
    "        x = np.hstack((mean, std, max))\n",
    "        X.append(x)\n",
    "        Y.append(np.array(y).repeat(N))\n",
    "    X = np.vstack(X)\n",
    "    Y = np.array(Y).flatten()\n",
    "    return X, Y\n",
    "\n",
    "x_train, y_train = concatenate(train_set)\n",
    "x_test, y_test = concatenate(test_set)\n",
    "print(x_train.shape)\n",
    "print(x_test.shape)"
   ]
  },
  {
   "cell_type": "code",
   "execution_count": 5,
   "metadata": {},
   "outputs": [
    {
     "name": "stdout",
     "output_type": "stream",
     "text": [
      "Fitting 3 folds for each of 6 candidates, totalling 18 fits\n",
      "[CV] C=0.001, random_state=1234 ......................................\n",
      "[CV] C=0.001, random_state=1234 ......................................\n",
      "[CV] C=0.001, random_state=1234 ......................................\n",
      "[CV] C=0.01, random_state=1234 .......................................\n",
      "[CV] C=0.01, random_state=1234 .......................................\n",
      "[CV] C=0.01, random_state=1234 .......................................\n",
      "[CV] C=0.1, random_state=1234 ........................................\n",
      "[CV] C=0.1, random_state=1234 ........................................\n",
      "[CV] C=0.1, random_state=1234 ........................................\n",
      "[CV] C=10, random_state=1234 .........................................\n",
      "[CV] C=10, random_state=1234 .........................................\n",
      "[CV] C=1, random_state=1234 ..........................................\n",
      "[CV] C=100, random_state=1234 ........................................\n",
      "[CV] C=100, random_state=1234 ........................................\n",
      "[CV] C=1, random_state=1234 ..........................................\n",
      "[CV] C=10, random_state=1234 .........................................\n",
      "[CV] C=1, random_state=1234 ..........................................\n",
      "[CV] C=100, random_state=1234 ........................................\n",
      "[CV] .......................... C=10, random_state=1234, total=   4.7s\n",
      "[CV] ....................... C=0.001, random_state=1234, total=   5.0s\n",
      "[CV] .......................... C=10, random_state=1234, total=   5.2s\n",
      "[CV] ....................... C=0.001, random_state=1234, total=   5.2s\n",
      "[CV] ........................ C=0.01, random_state=1234, total=   5.8s\n",
      "[CV] ....................... C=0.001, random_state=1234, total=   5.8s\n",
      "[CV] ......................... C=100, random_state=1234, total=   5.9s\n",
      "[CV] ........................ C=0.01, random_state=1234, total=   5.9s\n",
      "[CV] ......................... C=0.1, random_state=1234, total=   5.9s\n",
      "[CV] .......................... C=10, random_state=1234, total=   6.0s\n",
      "[CV] ........................... C=1, random_state=1234, total=   6.0s\n"
     ]
    },
    {
     "name": "stderr",
     "output_type": "stream",
     "text": [
      "[Parallel(n_jobs=-1)]: Done   9 out of  18 | elapsed:    6.0s remaining:    6.0s\n"
     ]
    },
    {
     "name": "stdout",
     "output_type": "stream",
     "text": [
      "[CV] ......................... C=0.1, random_state=1234, total=   6.2s\n",
      "[CV] ......................... C=100, random_state=1234, total=   6.2s\n",
      "[CV] ......................... C=100, random_state=1234, total=   6.2s\n",
      "[CV] ........................... C=1, random_state=1234, total=   6.3s\n",
      "[CV] ........................... C=1, random_state=1234, total=   6.3s\n",
      "[CV] ......................... C=0.1, random_state=1234, total=   6.4s\n",
      "[CV] ........................ C=0.01, random_state=1234, total=   6.4s\n"
     ]
    },
    {
     "name": "stderr",
     "output_type": "stream",
     "text": [
      "[Parallel(n_jobs=-1)]: Done  18 out of  18 | elapsed:    6.5s finished\n"
     ]
    },
    {
     "name": "stdout",
     "output_type": "stream",
     "text": [
      "0.5635\n",
      "{'C': 0.001, 'random_state': 1234}\n"
     ]
    }
   ],
   "source": [
    "params = {\n",
    "    'C': [10**x for x in range(-3, 3)],\n",
    "    #'gamma': [10**x for x in range(-4, 0)],\n",
    "    'random_state': [1234],\n",
    "    #'solver': ['sag'],\n",
    "    #'max_iter': [1000],\n",
    "}\n",
    "\n",
    "CLF_CLASS = LinearSVC\n",
    "\n",
    "#rs = GridSearchCV(LogisticRegression(), params, n_jobs=-1, cv=3, verbose=2)\n",
    "rs = GridSearchCV(CLF_CLASS(), params, n_jobs=-1, cv=3, verbose=2)\n",
    "rs.fit(x_train, y_train)\n",
    "print(rs.best_score_)\n",
    "print(rs.best_params_)"
   ]
  },
  {
   "cell_type": "code",
   "execution_count": 6,
   "metadata": {},
   "outputs": [
    {
     "name": "stdout",
     "output_type": "stream",
     "text": [
      "CPU times: user 8.96 s, sys: 12 ms, total: 8.97 s\n",
      "Wall time: 5.64 s\n"
     ]
    }
   ],
   "source": [
    "%%time\n",
    "if not hasattr(CLF_CLASS, 'predict_proba'):\n",
    "    clf = CalibratedClassifierCV(CLF_CLASS(**rs.best_params_))\n",
    "else:\n",
    "    clf = CLF_CLASS(**rs.best_params_, probability=True)\n",
    "clf.fit(x_train, y_train)"
   ]
  },
  {
   "cell_type": "code",
   "execution_count": 7,
   "metadata": {},
   "outputs": [
    {
     "name": "stdout",
     "output_type": "stream",
     "text": [
      "Train score: 0.855\n",
      "Test score: 0.7\n"
     ]
    }
   ],
   "source": [
    "N = MIN_SEGMENTS * len(train_set)\n",
    "y_train_ = y_train[::MIN_SEGMENTS]\n",
    "y_train_pred = clf.predict_proba(x_train).reshape((len(train_set), MIN_SEGMENTS, 10))\n",
    "y_train_pred = y_train_pred.sum(axis=1)\n",
    "y_train_pred = np.argmax(y_train_pred, axis=1)\n",
    "print('Train score:', accuracy_score(y_train_, y_train_pred))\n",
    "\n",
    "N = TEST_SEGMENTS * len(test_set)\n",
    "y_test_ = y_test[::TEST_SEGMENTS]\n",
    "y_test_pred = clf.predict_proba(x_test).reshape((len(test_set), TEST_SEGMENTS, 10))\n",
    "y_test_pred = y_test_pred.sum(axis=1)\n",
    "y_test_pred = np.argmax(y_test_pred, axis=1)\n",
    "print('Test score:', accuracy_score(y_test_, y_test_pred))"
   ]
  },
  {
   "cell_type": "code",
   "execution_count": null,
   "metadata": {},
   "outputs": [],
   "source": []
  }
 ],
 "metadata": {
  "kernelspec": {
   "display_name": "Python 3",
   "language": "python",
   "name": "python3"
  },
  "language_info": {
   "codemirror_mode": {
    "name": "ipython",
    "version": 3
   },
   "file_extension": ".py",
   "mimetype": "text/x-python",
   "name": "python",
   "nbconvert_exporter": "python",
   "pygments_lexer": "ipython3",
   "version": "3.6.6"
  }
 },
 "nbformat": 4,
 "nbformat_minor": 2
}
