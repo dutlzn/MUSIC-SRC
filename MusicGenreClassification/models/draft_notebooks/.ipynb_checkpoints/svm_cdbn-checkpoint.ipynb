{
 "cells": [
  {
   "cell_type": "code",
   "execution_count": 1,
   "metadata": {},
   "outputs": [],
   "source": [
    "import os\n",
    "import os.path as osp\n",
    "import sys\n",
    "from itertools import combinations\n",
    "sys.path.append(osp.abspath('..'))\n",
    "\n",
    "import numpy as np\n",
    "import torch\n",
    "from tqdm import tqdm_notebook\n",
    "from scipy.stats import kurtosis, skew\n",
    "from sklearn.model_selection import cross_validate\n",
    "from sklearn.svm import SVC\n",
    "from sklearn.preprocessing import scale, normalize\n",
    "from sklearn.metrics import accuracy_score\n",
    "\n",
    "import config\n",
    "from datasets.gtzan import GTZAN_SPEC\n",
    "from cdbn import CDBN\n",
    "\n",
    "%load_ext autoreload\n",
    "%autoreload 2"
   ]
  },
  {
   "cell_type": "code",
   "execution_count": 2,
   "metadata": {},
   "outputs": [],
   "source": [
    "# Random seeds\n",
    "np.random.seed(1234)\n",
    "MIN_SEGMENTS = 1\n",
    "\n",
    "CDBN_CHECKPOINT = 'cdbn_checkpoints/checkpoint_layer_0_epoch_90.pt'"
   ]
  },
  {
   "cell_type": "code",
   "execution_count": 3,
   "metadata": {},
   "outputs": [
    {
     "name": "stdout",
     "output_type": "stream",
     "text": [
      "Train: 1000\n",
      "Shape: (1, 221, 101)\n"
     ]
    }
   ],
   "source": [
    "dataset = GTZAN_SPEC(phase='all', min_segments=MIN_SEGMENTS, randomized=True)\n",
    "print('Train:', len(dataset))\n",
    "print('Shape:', dataset[0][0].shape)"
   ]
  },
  {
   "cell_type": "code",
   "execution_count": 4,
   "metadata": {},
   "outputs": [
    {
     "name": "stdout",
     "output_type": "stream",
     "text": [
      "(80, 101)\n"
     ]
    }
   ],
   "source": [
    "Ewhiten = None\n",
    "with open('pca_whiten_mat.npy', 'rb') as f:\n",
    "    Ewhiten = np.load(f)\n",
    "assert Ewhiten is not None\n",
    "\n",
    "for x_ in dataset[0][0]:\n",
    "    print(Ewhiten.dot(x_).shape)"
   ]
  },
  {
   "cell_type": "code",
   "execution_count": 9,
   "metadata": {},
   "outputs": [
    {
     "data": {
      "application/vnd.jupyter.widget-view+json": {
       "model_id": "cdf742dfd4704a00b563e285c1858a02",
       "version_major": 2,
       "version_minor": 0
      },
      "text/plain": [
       "HBox(children=(IntProgress(value=0, max=1000), HTML(value='')))"
      ]
     },
     "metadata": {},
     "output_type": "display_data"
    },
    {
     "name": "stdout",
     "output_type": "stream",
     "text": [
      "\n",
      "False\n",
      "(1000, 1500)\n",
      "(1000,)\n"
     ]
    }
   ],
   "source": [
    "# aggregate over all frames, calculate simple summary statistics\n",
    "# such as average, max or standard deviation for each channel\n",
    "cdbn = None\n",
    "with open(CDBN_CHECKPOINT, 'rb') as f:\n",
    "    cdbn = torch.load(f)\n",
    "\n",
    "def populate_features(dataset):\n",
    "    X = []\n",
    "    Y = []\n",
    "    for sample_idx, (x, y) in tqdm_notebook(enumerate(dataset), total=len(dataset)):\n",
    "        for segment_idx, x_ in enumerate(x):\n",
    "            x_ = Ewhiten.dot(x_)\n",
    "            x_ = torch.from_numpy(x_)\n",
    "            x_ = x_.type(torch.FloatTensor)\n",
    "            x_ = x_[None, None, :, 1:]\n",
    "            x_ = x_.to(0)\n",
    "            x_ = cdbn.crbms[0].v2h(x_)[1].squeeze_().cpu().numpy()\n",
    "            x_ = np.hstack((\n",
    "                np.mean(x_, axis=1),\n",
    "                np.max(x_, axis=1),\n",
    "                np.std(x_, axis=1),\n",
    "                kurtosis(x_, axis=1),\n",
    "                skew(x_, axis=1),\n",
    "            ))\n",
    "            X.append(x_)\n",
    "            Y.append(y)\n",
    "    X = np.array(X)\n",
    "    Y = np.array(Y)\n",
    "    return X, Y\n",
    "            \n",
    "\n",
    "X, Y = populate_features(dataset)\n",
    "print(X.shape)\n",
    "print(Y.shape)"
   ]
  },
  {
   "cell_type": "code",
   "execution_count": 14,
   "metadata": {},
   "outputs": [
    {
     "name": "stderr",
     "output_type": "stream",
     "text": [
      "/home/youchen/miniconda3/lib/python3.6/site-packages/sklearn/preprocessing/data.py:164: UserWarning: Numerical issues were encountered when centering the data and might not be solved. Dataset may contain too large values. You may need to prescale your features.\n",
      "  warnings.warn(\"Numerical issues were encountered \"\n",
      "/home/youchen/miniconda3/lib/python3.6/site-packages/sklearn/preprocessing/data.py:181: UserWarning: Numerical issues were encountered when scaling the data and might not be solved. The standard deviation of the data is probably very close to 0. \n",
      "  warnings.warn(\"Numerical issues were encountered \"\n"
     ]
    },
    {
     "name": "stdout",
     "output_type": "stream",
     "text": [
      "SCORES [0.44 0.49 0.5  0.45 0.48 0.41 0.49 0.56 0.44 0.42]\n",
      "AVG: 0.46799999999999997\n",
      "STD: 0.04261455150532505\n"
     ]
    }
   ],
   "source": [
    "scores = cross_validate(SVC(C=2), normalize(X), Y, cv=10, n_jobs=-1)\n",
    "print('SCORES', scores['test_score'])\n",
    "print('AVG:', scores['test_score'].mean())\n",
    "print('STD:', scores['test_score'].std())"
   ]
  },
  {
   "cell_type": "code",
   "execution_count": null,
   "metadata": {},
   "outputs": [],
   "source": []
  }
 ],
 "metadata": {
  "kernelspec": {
   "display_name": "Python 3",
   "language": "python",
   "name": "python3"
  },
  "language_info": {
   "codemirror_mode": {
    "name": "ipython",
    "version": 3
   },
   "file_extension": ".py",
   "mimetype": "text/x-python",
   "name": "python",
   "nbconvert_exporter": "python",
   "pygments_lexer": "ipython3",
   "version": "3.6.6"
  }
 },
 "nbformat": 4,
 "nbformat_minor": 2
}
