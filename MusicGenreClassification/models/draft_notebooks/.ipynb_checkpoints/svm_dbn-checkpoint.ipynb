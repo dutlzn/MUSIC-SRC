{
 "cells": [
  {
   "cell_type": "code",
   "execution_count": 1,
   "metadata": {},
   "outputs": [],
   "source": [
    "import os\n",
    "import os.path as osp\n",
    "import sys\n",
    "sys.path.append(osp.abspath('..'))\n",
    "\n",
    "import numpy as np\n",
    "import torch\n",
    "from tqdm import tqdm_notebook\n",
    "\n",
    "import config\n",
    "from datasets.gtzan import GTZAN_SPEC\n",
    "from dbn import DBN\n",
    "\n",
    "%load_ext autoreload\n",
    "%autoreload 2"
   ]
  },
  {
   "cell_type": "code",
   "execution_count": 2,
   "metadata": {},
   "outputs": [],
   "source": [
    "# Random seeds\n",
    "np.random.seed(1234)\n",
    "MIN_SEGMENTS = 2\n",
    "\n",
    "DBN_CHECKPOINT = 'dbn_checkpoints/checkpoint_layer_0_epoch_100.pt'"
   ]
  },
  {
   "cell_type": "code",
   "execution_count": 3,
   "metadata": {},
   "outputs": [
    {
     "name": "stdout",
     "output_type": "stream",
     "text": [
      "Train: 400\n",
      "Test: 100\n",
      "Shape: (2, 221, 301)\n"
     ]
    }
   ],
   "source": [
    "train_set = GTZAN_SPEC(phase='val', test_size=0.1, val_size=0.4,\n",
    "                       min_segments=MIN_SEGMENTS, randomized=True)\n",
    "test_set = GTZAN_SPEC(phase='test', test_size=0.1, val_size=0.4, min_segments=MIN_SEGMENTS)\n",
    "\n",
    "print('Train:', len(train_set))\n",
    "print('Test:', len(test_set))\n",
    "print('Shape:', train_set[0][0].shape)"
   ]
  },
  {
   "cell_type": "code",
   "execution_count": 4,
   "metadata": {},
   "outputs": [
    {
     "name": "stdout",
     "output_type": "stream",
     "text": [
      "(80, 301)\n",
      "(80, 301)\n"
     ]
    }
   ],
   "source": [
    "Ewhiten = None\n",
    "with open('pca_whiten_mat.npy', 'rb') as f:\n",
    "    Ewhiten = np.load(f)\n",
    "assert Ewhiten is not None\n",
    "\n",
    "for x_ in train_set[0][0]:\n",
    "    print(Ewhiten.dot(x_).shape)"
   ]
  },
  {
   "cell_type": "code",
   "execution_count": 5,
   "metadata": {},
   "outputs": [
    {
     "data": {
      "application/vnd.jupyter.widget-view+json": {
       "model_id": "ebb4d2371d164edfb01e38ba8fe0417e",
       "version_major": 2,
       "version_minor": 0
      },
      "text/plain": [
       "HBox(children=(IntProgress(value=0, max=400), HTML(value='')))"
      ]
     },
     "metadata": {},
     "output_type": "display_data"
    },
    {
     "name": "stdout",
     "output_type": "stream",
     "text": [
      "\n"
     ]
    },
    {
     "data": {
      "application/vnd.jupyter.widget-view+json": {
       "model_id": "02e227620f254279a4267054bfb30a10",
       "version_major": 2,
       "version_minor": 0
      },
      "text/plain": [
       "HBox(children=(IntProgress(value=0), HTML(value='')))"
      ]
     },
     "metadata": {},
     "output_type": "display_data"
    },
    {
     "name": "stdout",
     "output_type": "stream",
     "text": [
      "\n"
     ]
    }
   ],
   "source": [
    "# aggregate over all frames, calculate simple summary statistics\n",
    "# such as average, max or standard deviation for each channel\n",
    "x_train = np.empty((400 * MIN_SEGMENTS, 512))\n",
    "y_train = np.empty((400 * MIN_SEGMENTS,))\n",
    "x_test = np.empty((100 * MIN_SEGMENTS, 512))\n",
    "y_test = np.empty((100 * MIN_SEGMENTS,))\n",
    "dbn = None\n",
    "with open(DBN_CHECKPOINT, 'rb') as f:\n",
    "    dbn = torch.load(f)\n",
    "\n",
    "\n",
    "def populate_features(src_dataset, dst_x, dst_y):\n",
    "    for sample_idx, (x, y) in tqdm_notebook(enumerate(src_dataset), total=len(src_dataset)):\n",
    "        for segment_idx, x_ in enumerate(x):\n",
    "            x_ = Ewhiten.dot(x_)\n",
    "            x_ = torch.from_numpy(x_)\n",
    "            x_ = x_.type(torch.FloatTensor)\n",
    "            x_ = x_.view(-1)[None, ...]\n",
    "            x_ = x_.to(0)\n",
    "            \n",
    "            x_ = dbn.rbms[0].v2h(x_)[1].squeeze_().cpu().numpy()\n",
    "            idx = sample_idx * MIN_SEGMENTS + segment_idx\n",
    "            dst_x[idx] = x_\n",
    "            dst_y[idx] = y\n",
    "\n",
    "populate_features(train_set, x_train, y_train)\n",
    "populate_features(test_set, x_test, y_test)"
   ]
  },
  {
   "cell_type": "code",
   "execution_count": 6,
   "metadata": {},
   "outputs": [
    {
     "name": "stdout",
     "output_type": "stream",
     "text": [
      "Fitting 10 folds for each of 48 candidates, totalling 480 fits\n"
     ]
    },
    {
     "name": "stderr",
     "output_type": "stream",
     "text": [
      "[Parallel(n_jobs=-1)]: Done  10 tasks      | elapsed:    1.3s\n",
      "[Parallel(n_jobs=-1)]: Done 160 tasks      | elapsed:   10.3s\n",
      "[Parallel(n_jobs=-1)]: Done 410 tasks      | elapsed:   25.0s\n",
      "[Parallel(n_jobs=-1)]: Done 480 out of 480 | elapsed:   28.1s finished\n"
     ]
    },
    {
     "name": "stdout",
     "output_type": "stream",
     "text": [
      "0.1975\n",
      "{'C': 0.001, 'gamma': 1e-08, 'random_state': 1234}\n"
     ]
    }
   ],
   "source": [
    "from sklearn.model_selection import GridSearchCV\n",
    "from sklearn.svm import SVC\n",
    "\n",
    "params = {\n",
    "    'C': [10**x for x in range(-3, 3)],\n",
    "    'gamma': [10**x for x in range(-8, 0)],\n",
    "    'random_state': [1234],\n",
    "}\n",
    "\n",
    "rs = GridSearchCV(SVC(), params, n_jobs=-1, cv=10, verbose=1)\n",
    "rs.fit(x_train, y_train)\n",
    "print(rs.best_score_)\n",
    "print(rs.best_params_)"
   ]
  },
  {
   "cell_type": "code",
   "execution_count": 7,
   "metadata": {},
   "outputs": [
    {
     "name": "stdout",
     "output_type": "stream",
     "text": [
      "Train score: 0.1975\n",
      "Test score: 0.2\n"
     ]
    }
   ],
   "source": [
    "from sklearn.metrics import accuracy_score\n",
    "\n",
    "svm = SVC(**rs.best_params_)\n",
    "svm.fit(x_train, y_train)\n",
    "\n",
    "print('Train score:', accuracy_score(y_train, svm.predict(x_train)))\n",
    "print('Test score:', accuracy_score(y_test, svm.predict(x_test)))"
   ]
  },
  {
   "cell_type": "code",
   "execution_count": null,
   "metadata": {},
   "outputs": [],
   "source": []
  }
 ],
 "metadata": {
  "kernelspec": {
   "display_name": "Python 3",
   "language": "python",
   "name": "python3"
  },
  "language_info": {
   "codemirror_mode": {
    "name": "ipython",
    "version": 3
   },
   "file_extension": ".py",
   "mimetype": "text/x-python",
   "name": "python",
   "nbconvert_exporter": "python",
   "pygments_lexer": "ipython3",
   "version": "3.6.6"
  }
 },
 "nbformat": 4,
 "nbformat_minor": 2
}
