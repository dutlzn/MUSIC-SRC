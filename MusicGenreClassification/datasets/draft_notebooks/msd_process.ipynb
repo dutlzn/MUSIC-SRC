{
 "cells": [
  {
   "cell_type": "code",
   "execution_count": 1,
   "metadata": {},
   "outputs": [],
   "source": [
    "import os.path as osp\n",
    "import os\n",
    "from concurrent.futures import ProcessPoolExecutor\n",
    "\n",
    "import numpy as np\n",
    "\n",
    "from tqdm import tqdm_notebook as tqdm\n",
    "from msd import MSD_MELSPEC as MSD\n",
    "\n",
    "import features\n",
    "\n",
    "%load_ext autoreload\n",
    "%autoreload 2"
   ]
  },
  {
   "cell_type": "code",
   "execution_count": 2,
   "metadata": {},
   "outputs": [],
   "source": [
    "dataset = MSD(phase='all')"
   ]
  },
  {
   "cell_type": "code",
   "execution_count": 3,
   "metadata": {},
   "outputs": [
    {
     "data": {
      "application/vnd.jupyter.widget-view+json": {
       "model_id": "6ae6e8d48254401bb21df09fb7675ff7",
       "version_major": 2,
       "version_minor": 0
      },
      "text/plain": [
       "HBox(children=(IntProgress(value=0, max=192233), HTML(value='')))"
      ]
     },
     "metadata": {},
     "output_type": "display_data"
    },
    {
     "name": "stdout",
     "output_type": "stream",
     "text": [
      "\n"
     ]
    }
   ],
   "source": [
    "def process_single(paths):\n",
    "    input_path, output_path = paths\n",
    "    if osp.exists(output_path):\n",
    "        return\n",
    "    try:\n",
    "        x = features.get_audio(input_path)\n",
    "    except Exception:\n",
    "        print(input_path)\n",
    "        return\n",
    "    try:\n",
    "        with open(output_path, 'wb') as f:\n",
    "            np.save(f, x)\n",
    "    except Exception:\n",
    "        if osp.exists(output_path):\n",
    "            os.remove(output_path)\n",
    "    \n",
    "with ProcessPoolExecutor() as executor:\n",
    "    paths = [(osp.join('/share/MSD/{}'.format(x)),\n",
    "              osp.join('/share/MSD/precomputed/vanilla/{}.npy'.format(x))) for x in dataset.X]\n",
    "    total_chunks = 10000\n",
    "    for processed in tqdm(executor.map(process_single, paths, chunksize=len(paths)//total_chunks),\n",
    "                          total=len(paths)):\n",
    "        pass"
   ]
  },
  {
   "cell_type": "code",
   "execution_count": null,
   "metadata": {},
   "outputs": [],
   "source": []
  }
 ],
 "metadata": {
  "kernelspec": {
   "display_name": "Python 3",
   "language": "python",
   "name": "python3"
  },
  "language_info": {
   "codemirror_mode": {
    "name": "ipython",
    "version": 3
   },
   "file_extension": ".py",
   "mimetype": "text/x-python",
   "name": "python",
   "nbconvert_exporter": "python",
   "pygments_lexer": "ipython3",
   "version": "3.6.6"
  }
 },
 "nbformat": 4,
 "nbformat_minor": 2
}
