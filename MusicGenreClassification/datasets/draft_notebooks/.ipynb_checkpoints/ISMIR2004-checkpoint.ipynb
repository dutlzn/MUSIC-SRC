{
 "cells": [
  {
   "cell_type": "code",
   "execution_count": 1,
   "metadata": {},
   "outputs": [],
   "source": [
    "import os\n",
    "import os.path as osp\n",
    "import sys\n",
    "from concurrent.futures import ProcessPoolExecutor\n",
    "\n",
    "import numpy as np\n",
    "import pandas as pd\n",
    "import matplotlib.pyplot as plt\n",
    "import seaborn as sns\n",
    "import librosa as rosa\n",
    "from tqdm import tqdm_notebook as tqdm\n",
    "\n",
    "from ismir import ISMIR2004\n",
    "\n",
    "%load_ext autoreload\n",
    "%autoreload 2"
   ]
  },
  {
   "cell_type": "code",
   "execution_count": null,
   "metadata": {},
   "outputs": [],
   "source": [
    "for phase in ('train', 'val', 'test'):\n",
    "    dataset = ISMIR2004(phase=phase)\n",
    "    paths = [(osp.join(dataset.root, 'audio', dataset._phase, x),\n",
    "              osp.join('/home/youchen/tmp_datasets/ISMIR2004/precomputed/vanilla/{}/{}.npy'.format(dataset._phase, x)))\n",
    "             for x in dataset.X]\n",
    "    for input_path, output_path in paths:\n",
    "        dir_name = osp.dirname(output_path)\n",
    "        if not osp.exists(dir_name):\n",
    "            os.makedirs(dir_name)\n",
    "    \n",
    "    \n",
    "    def process_single(paths):\n",
    "        input_path, output_path = paths\n",
    "        if osp.exists(output_path):\n",
    "            return\n",
    "        try:\n",
    "            x, _ = rosa.load(input_path)\n",
    "            x = x.astype(np.float32)\n",
    "        except Exception:\n",
    "            print(input_path)\n",
    "            return\n",
    "        try:\n",
    "            with open(output_path, 'wb') as f:\n",
    "                np.save(f, x)\n",
    "        except Exception as e:\n",
    "            print(e)\n",
    "            if osp.exists(output_path):\n",
    "                os.remove(output_path)\n",
    "\n",
    "                \n",
    "    with ProcessPoolExecutor(20) as executor:\n",
    "        for processed in tqdm(executor.map(process_single, paths), total=len(paths)):\n",
    "            pass"
   ]
  },
  {
   "cell_type": "code",
   "execution_count": null,
   "metadata": {},
   "outputs": [
    {
     "data": {
      "application/vnd.jupyter.widget-view+json": {
       "model_id": "530de6c7cc6f4a4fb9cee12a94a732ea",
       "version_major": 2,
       "version_minor": 0
      },
      "text/plain": [
       "HBox(children=(IntProgress(value=0, max=729), HTML(value='')))"
      ]
     },
     "metadata": {},
     "output_type": "display_data"
    },
    {
     "name": "stdout",
     "output_type": "stream",
     "text": [
      "/share/ISMIR2004/precomputed/vanilla/training/classical/american_baroque/dances_and_suites_of_rameau_an/16-air_suite_from_les_fetes_d_he.mp3.npy\n"
     ]
    }
   ],
   "source": [
    "%%time\n",
    "dataset = ISMIR2004(phase='train')\n",
    "for x, y in tqdm(dataset, total=len(dataset)):\n",
    "    pass"
   ]
  },
  {
   "cell_type": "code",
   "execution_count": null,
   "metadata": {},
   "outputs": [],
   "source": []
  }
 ],
 "metadata": {
  "kernelspec": {
   "display_name": "Python 3",
   "language": "python",
   "name": "python3"
  },
  "language_info": {
   "codemirror_mode": {
    "name": "ipython",
    "version": 3
   },
   "file_extension": ".py",
   "mimetype": "text/x-python",
   "name": "python",
   "nbconvert_exporter": "python",
   "pygments_lexer": "ipython3",
   "version": "3.6.6"
  }
 },
 "nbformat": 4,
 "nbformat_minor": 2
}
