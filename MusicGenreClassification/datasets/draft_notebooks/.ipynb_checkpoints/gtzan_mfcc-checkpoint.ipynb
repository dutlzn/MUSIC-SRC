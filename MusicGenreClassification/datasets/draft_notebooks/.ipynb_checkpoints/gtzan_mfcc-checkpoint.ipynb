{
 "cells": [
  {
   "cell_type": "code",
   "execution_count": 6,
   "metadata": {},
   "outputs": [
    {
     "name": "stdout",
     "output_type": "stream",
     "text": [
      "The autoreload extension is already loaded. To reload it, use:\n",
      "  %reload_ext autoreload\n"
     ]
    }
   ],
   "source": [
    "import os\n",
    "import os.path as osp\n",
    "\n",
    "import librosa as rosa\n",
    "import librosa.display as display\n",
    "\n",
    "from gtzan import GTZAN_MFCC\n",
    "\n",
    "%load_ext autoreload\n",
    "%autoreload 2"
   ]
  },
  {
   "cell_type": "code",
   "execution_count": 16,
   "metadata": {},
   "outputs": [
    {
     "name": "stdout",
     "output_type": "stream",
     "text": [
      "(1, 14, 1291)\n",
      "[[[ 6.45650575  6.45650575  6.45650575 ...  1.06451524  1.06451524\n",
      "    1.06451524]\n",
      "  [-2.54704126 -2.54704126 -2.54704126 ... -1.47467852 -1.47467852\n",
      "   -1.47467852]\n",
      "  [-2.19790453 -2.19790453 -2.19790453 ...  1.72401839  1.72401839\n",
      "    1.72401839]\n",
      "  ...\n",
      "  [ 0.53117     0.53117     0.53117    ...  0.86513873  0.86513873\n",
      "    0.86513873]\n",
      "  [ 3.59183468  3.59183468  3.59183468 ...  0.82869749  0.82869749\n",
      "    0.82869749]\n",
      "  [ 2.08351189  2.08351189  2.08351189 ...  0.87442005  0.87442005\n",
      "    0.87442005]]]\n",
      "[[[-6.12337478 -6.12337478 -6.12337478 ...  3.03411652  3.03411652\n",
      "    3.03411652]\n",
      "  [ 0.2900882   0.2900882   0.2900882  ... -2.55400863 -2.55400863\n",
      "   -2.55400863]\n",
      "  [ 1.1035737   1.1035737   1.1035737  ...  1.66072356  1.66072356\n",
      "    1.66072356]\n",
      "  ...\n",
      "  [-1.15128088 -1.15128088 -1.15128088 ... -0.23206889 -0.23206889\n",
      "   -0.23206889]\n",
      "  [-0.7339963  -0.7339963  -0.7339963  ... -0.1491528  -0.1491528\n",
      "   -0.1491528 ]\n",
      "  [-0.84282284 -0.84282284 -0.84282284 ...  1.14002091  1.14002091\n",
      "    1.14002091]]]\n"
     ]
    }
   ],
   "source": [
    "dataset = GTZAN_MFCC(phase='all', min_segments=-1)\n",
    "\n",
    "x = dataset[0][0]\n",
    "print(x.shape)"
   ]
  },
  {
   "cell_type": "code",
   "execution_count": null,
   "metadata": {},
   "outputs": [],
   "source": [
    "dataset = GTZAN_MFCC(phase='all')\n",
    "\n",
    "from tqdm import tqdm_notebook\n",
    "\n",
    "for idx, x in tqdm_notebook(enumerate(dataset, 1), total=len(dataset)):\n",
    "    pass"
   ]
  }
 ],
 "metadata": {
  "kernelspec": {
   "display_name": "Python 3",
   "language": "python",
   "name": "python3"
  },
  "language_info": {
   "codemirror_mode": {
    "name": "ipython",
    "version": 3
   },
   "file_extension": ".py",
   "mimetype": "text/x-python",
   "name": "python",
   "nbconvert_exporter": "python",
   "pygments_lexer": "ipython3",
   "version": "3.6.6"
  }
 },
 "nbformat": 4,
 "nbformat_minor": 2
}
