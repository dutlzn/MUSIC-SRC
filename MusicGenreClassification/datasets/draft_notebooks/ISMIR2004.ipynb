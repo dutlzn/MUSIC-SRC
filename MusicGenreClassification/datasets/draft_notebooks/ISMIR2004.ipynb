{
 "cells": [
  {
   "cell_type": "code",
   "execution_count": 1,
   "metadata": {},
   "outputs": [],
   "source": [
    "import os\n",
    "import os.path as osp\n",
    "import sys\n",
    "from concurrent.futures import ProcessPoolExecutor\n",
    "\n",
    "import numpy as np\n",
    "import pandas as pd\n",
    "import matplotlib.pyplot as plt\n",
    "import seaborn as sns\n",
    "import librosa as rosa\n",
    "from tqdm import tqdm_notebook as tqdm\n",
    "\n",
    "from ismir import ISMIR2004\n",
    "\n",
    "%load_ext autoreload\n",
    "%autoreload 2"
   ]
  },
  {
   "cell_type": "code",
   "execution_count": 2,
   "metadata": {},
   "outputs": [
    {
     "data": {
      "application/vnd.jupyter.widget-view+json": {
       "model_id": "e2ebbaacace44a8c882c73db02e32bce",
       "version_major": 2,
       "version_minor": 0
      },
      "text/plain": [
       "HBox(children=(IntProgress(value=0, max=729), HTML(value='')))"
      ]
     },
     "metadata": {},
     "output_type": "display_data"
    },
    {
     "name": "stdout",
     "output_type": "stream",
     "text": [
      "\n"
     ]
    },
    {
     "data": {
      "application/vnd.jupyter.widget-view+json": {
       "model_id": "24edbc14b51b43c9a628c574147d03d9",
       "version_major": 2,
       "version_minor": 0
      },
      "text/plain": [
       "HBox(children=(IntProgress(value=0, max=729), HTML(value='')))"
      ]
     },
     "metadata": {},
     "output_type": "display_data"
    },
    {
     "name": "stdout",
     "output_type": "stream",
     "text": [
      "\n"
     ]
    },
    {
     "data": {
      "application/vnd.jupyter.widget-view+json": {
       "model_id": "733a0841a0e8406fbedc6881559a16eb",
       "version_major": 2,
       "version_minor": 0
      },
      "text/plain": [
       "HBox(children=(IntProgress(value=0, max=729), HTML(value='')))"
      ]
     },
     "metadata": {},
     "output_type": "display_data"
    },
    {
     "name": "stdout",
     "output_type": "stream",
     "text": [
      "\n"
     ]
    }
   ],
   "source": [
    "for phase in ('train', 'val', 'test'):\n",
    "    dataset = ISMIR2004(phase=phase, root='/home/youchen/tmp_datasets/ISMIR2004')\n",
    "    paths = [(osp.join(dataset.root, 'audio', dataset._phase, x),\n",
    "              osp.join('/home/youchen/tmp_datasets/ISMIR2004/precomputed/vanilla/{}/{}.npy'.format(dataset._phase, x)))\n",
    "             for x in dataset.X]\n",
    "    for input_path, output_path in paths:\n",
    "        dir_name = osp.dirname(output_path)\n",
    "        if not osp.exists(dir_name):\n",
    "            os.makedirs(dir_name)\n",
    "    \n",
    "    \n",
    "    def process_single(paths):\n",
    "        input_path, output_path = paths\n",
    "        if osp.exists(output_path):\n",
    "            return\n",
    "        try:\n",
    "            x, _ = rosa.load(input_path)\n",
    "            x = x.astype(np.float32)\n",
    "        except Exception:\n",
    "            print(input_path)\n",
    "            return\n",
    "        try:\n",
    "            with open(output_path, 'wb') as f:\n",
    "                np.save(f, x)\n",
    "        except Exception as e:\n",
    "            print(e)\n",
    "            if osp.exists(output_path):\n",
    "                os.remove(output_path)\n",
    "\n",
    "                \n",
    "    with ProcessPoolExecutor(20) as executor:\n",
    "        for processed in tqdm(executor.map(process_single, paths), total=len(paths)):\n",
    "            pass"
   ]
  },
  {
   "cell_type": "code",
   "execution_count": 16,
   "metadata": {},
   "outputs": [
    {
     "data": {
      "application/vnd.jupyter.widget-view+json": {
       "model_id": "a349bbf62e8f496b840cc3d2f4882e6c",
       "version_major": 2,
       "version_minor": 0
      },
      "text/plain": [
       "HBox(children=(IntProgress(value=0, max=729), HTML(value='')))"
      ]
     },
     "metadata": {},
     "output_type": "display_data"
    },
    {
     "name": "stdout",
     "output_type": "stream",
     "text": [
      "train 65\n",
      "train 73\n",
      "train 77\n",
      "train 134\n",
      "train 544\n"
     ]
    },
    {
     "data": {
      "application/vnd.jupyter.widget-view+json": {
       "model_id": "0d4b976374364c80906ccfe166568aa7",
       "version_major": 2,
       "version_minor": 0
      },
      "text/plain": [
       "HBox(children=(IntProgress(value=0, max=729), HTML(value='')))"
      ]
     },
     "metadata": {},
     "output_type": "display_data"
    },
    {
     "name": "stdout",
     "output_type": "stream",
     "text": [
      "val 69\n",
      "val 70\n",
      "val 78\n",
      "val 80\n",
      "val 82\n"
     ]
    },
    {
     "data": {
      "application/vnd.jupyter.widget-view+json": {
       "model_id": "7396c8a69232494e9c6460c4f3c7e03d",
       "version_major": 2,
       "version_minor": 0
      },
      "text/plain": [
       "HBox(children=(IntProgress(value=0, max=729), HTML(value='')))"
      ]
     },
     "metadata": {},
     "output_type": "display_data"
    },
    {
     "name": "stdout",
     "output_type": "stream",
     "text": [
      "test 74\n",
      "test 76\n",
      "test 133\n",
      "CPU times: user 59min 21s, sys: 2min 29s, total: 1h 1min 51s\n",
      "Wall time: 10min 1s\n"
     ]
    }
   ],
   "source": [
    "%%time\n",
    "for phase in ('train', 'val', 'test'):\n",
    "    dataset = ISMIR2004(phase=phase, root='/home/youchen/tmp_datasets/ISMIR2004')\n",
    "    for idx, (x, y) in tqdm(zip(range(len(dataset)), dataset), total=len(dataset)):\n",
    "        if len(x) < 22050 * 30:\n",
    "            print(phase, idx+1)"
   ]
  },
  {
   "cell_type": "code",
   "execution_count": 8,
   "metadata": {},
   "outputs": [
    {
     "data": {
      "text/plain": [
       "'classical/the_english_concert_with_trevor_pinnock/handel_tamerlano_act_ii/3-tamerlano_act_i_track_3.mp3'"
      ]
     },
     "execution_count": 8,
     "metadata": {},
     "output_type": "execute_result"
    }
   ],
   "source": [
    "dataset.X[72]"
   ]
  },
  {
   "cell_type": "code",
   "execution_count": 9,
   "metadata": {},
   "outputs": [
    {
     "data": {
      "text/plain": [
       "(201048,)"
      ]
     },
     "execution_count": 9,
     "metadata": {},
     "output_type": "execute_result"
    }
   ],
   "source": [
    "dataset[72][0].shape"
   ]
  },
  {
   "cell_type": "code",
   "execution_count": null,
   "metadata": {},
   "outputs": [],
   "source": []
  }
 ],
 "metadata": {
  "kernelspec": {
   "display_name": "Python 3",
   "language": "python",
   "name": "python3"
  },
  "language_info": {
   "codemirror_mode": {
    "name": "ipython",
    "version": 3
   },
   "file_extension": ".py",
   "mimetype": "text/x-python",
   "name": "python",
   "nbconvert_exporter": "python",
   "pygments_lexer": "ipython3",
   "version": "3.7.0"
  }
 },
 "nbformat": 4,
 "nbformat_minor": 2
}
