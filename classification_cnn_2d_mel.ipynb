{
 "cells": [
  {
   "cell_type": "code",
   "execution_count": 1,
   "metadata": {},
   "outputs": [
    {
     "name": "stderr",
     "output_type": "stream",
     "text": [
      "Using TensorFlow backend.\n"
     ]
    }
   ],
   "source": [
    "import warnings\n",
    "warnings.filterwarnings(\"ignore\", category = FutureWarning)\n",
    "\n",
    "import os\n",
    "import keras\n",
    "import h5py\n",
    "import librosa\n",
    "import itertools\n",
    "import numpy as np\n",
    "import matplotlib.pyplot as plt\n",
    "from collections import OrderedDict\n",
    "\n",
    "from keras.utils import to_categorical\n",
    "from sklearn.model_selection import train_test_split\n",
    "from sklearn.metrics import confusion_matrix\n",
    "\n",
    "from keras.models import Sequential\n",
    "from keras.layers import Dense\n",
    "from keras.layers import Activation\n",
    "from keras.layers import Conv2D\n",
    "from keras.layers import MaxPooling2D\n",
    "from keras.layers import Dropout\n",
    "from keras.layers import Flatten\n",
    "from keras.layers import BatchNormalization\n",
    "\n",
    "#指定显卡\n",
    "import os\n",
    "os.environ[\"CUDA_VISIBLE_DEVICES\"] = \"0\""
   ]
  },
  {
   "cell_type": "markdown",
   "metadata": {},
   "source": [
    "# Read the data\n",
    "\n",
    "> Helper functions to assist the process to read songs, split then and return an array of spectrograms/melspectrograms"
   ]
  },
  {
   "cell_type": "code",
   "execution_count": 2,
   "metadata": {},
   "outputs": [],
   "source": [
    "\"\"\"\n",
    "@description: Method to split a song into multiple songs using overlapping windows\n",
    "\"\"\"\n",
    "def splitsongs(X, y, window = 0.1, overlap = 0.5):\n",
    "    # Empty lists to hold our results\n",
    "    temp_X = []\n",
    "    temp_y = []\n",
    "\n",
    "    # Get the input song array size\n",
    "    xshape = X.shape[0]\n",
    "    chunk = int(xshape*window)\n",
    "    offset = int(chunk*(1.-overlap))\n",
    "    \n",
    "    # Split the song and create new ones on windows\n",
    "    spsong = [X[i:i+chunk] for i in range(0, xshape - chunk + offset, offset)]\n",
    "    for s in spsong:\n",
    "        temp_X.append(s)\n",
    "        temp_y.append(y)\n",
    "\n",
    "    return np.array(temp_X), np.array(temp_y)"
   ]
  },
  {
   "cell_type": "code",
   "execution_count": 3,
   "metadata": {},
   "outputs": [],
   "source": [
    "\"\"\"\n",
    "@description: Method to convert a list of songs to a np array of melspectrograms\n",
    "\"\"\"\n",
    "def to_melspectrogram(songs, n_fft = 1024, hop_length = 512):\n",
    "    # Transformation function\n",
    "    melspec = lambda x: librosa.feature.melspectrogram(x, n_fft = n_fft,\n",
    "        hop_length = hop_length)[:,:,np.newaxis]\n",
    "\n",
    "    # map transformation of input songs to melspectrogram using log-scale\n",
    "    tsongs = map(melspec, songs)\n",
    "    return np.array(list(tsongs))"
   ]
  },
  {
   "cell_type": "code",
   "execution_count": 4,
   "metadata": {},
   "outputs": [],
   "source": [
    "def read_data(src_dir, genres, song_samples, spec_format, debug = True):    \n",
    "    # Empty array of dicts with the processed features from all files\n",
    "    arr_specs = []\n",
    "    arr_genres = []\n",
    "\n",
    "    # Read files from the folders\n",
    "    for x,_ in genres.items():\n",
    "        folder = src_dir + x\n",
    "        \n",
    "        for root, subdirs, files in os.walk(folder):\n",
    "            for file in files:\n",
    "                # Read the audio file\n",
    "                file_name = folder + \"/\" + file\n",
    "                signal, sr = librosa.load(file_name)\n",
    "                signal = signal[:song_samples]\n",
    "                \n",
    "                # Debug process\n",
    "                if debug:\n",
    "                    print(\"Reading file: {}\".format(file_name))\n",
    "                \n",
    "                # Convert to dataset of spectograms/melspectograms\n",
    "                signals, y = splitsongs(signal, genres[x])\n",
    "                \n",
    "                # Convert to \"spec\" representation\n",
    "                specs = spec_format(signals)\n",
    "                \n",
    "                # Save files\n",
    "                arr_genres.extend(y)\n",
    "                arr_specs.extend(specs)\n",
    "                \n",
    "                \n",
    "    return np.array(arr_specs), np.array(arr_genres)"
   ]
  },
  {
   "cell_type": "code",
   "execution_count": 5,
   "metadata": {},
   "outputs": [],
   "source": [
    "# # Parameters\n",
    "# gtzan_dir = '../data/genres/'\n",
    "# song_samples = 660000\n",
    "# genres = {'metal': 0, 'disco': 1, 'classical': 2, 'hiphop': 3, 'jazz': 4, \n",
    "#           'country': 5, 'pop': 6, 'blues': 7, 'reggae': 8, 'rock': 9}\n",
    "\n",
    "# # Read the data\n",
    "# X, y = read_data(gtzan_dir, genres, song_samples, to_melspectrogram, debug=False)"
   ]
  },
  {
   "cell_type": "code",
   "execution_count": 6,
   "metadata": {},
   "outputs": [],
   "source": [
    "# np.save('x_gtzan_npy.npy', X)\n",
    "# np.save('y_gtzan_npy.npy', y)"
   ]
  },
  {
   "cell_type": "code",
   "execution_count": 7,
   "metadata": {},
   "outputs": [],
   "source": [
    "# One hot encoding of the labels\n",
    "X = np.load('x_gtzan_npy.npy')\n",
    "y = np.load('y_gtzan_npy.npy')\n",
    "y = to_categorical(y)"
   ]
  },
  {
   "cell_type": "markdown",
   "metadata": {},
   "source": [
    "# Dataset Split"
   ]
  },
  {
   "cell_type": "code",
   "execution_count": 8,
   "metadata": {},
   "outputs": [],
   "source": [
    "X_train, X_test, y_train, y_test = train_test_split(X, y, test_size=0.3, random_state=42, stratify = y)"
   ]
  },
  {
   "cell_type": "code",
   "execution_count": 9,
   "metadata": {},
   "outputs": [
    {
     "name": "stdout",
     "output_type": "stream",
     "text": [
      "(13300, 128, 129, 1) (5700, 128, 129, 1) (13300, 10) (5700, 10)\n"
     ]
    }
   ],
   "source": [
    "print(X_train.shape, X_test.shape, y_train.shape, y_test.shape)"
   ]
  },
  {
   "cell_type": "code",
   "execution_count": 10,
   "metadata": {},
   "outputs": [
    {
     "data": {
      "image/png": "[encoded data removed]",
      "text/plain": [
       "<Figure size 432x288 with 1 Axes>"
      ]
     },
     "metadata": {},
     "output_type": "display_data"
    }
   ],
   "source": [
    "# Histogram for train and test \n",
    "values, count = np.unique(np.argmax(y_train, axis=1), return_counts=True)\n",
    "plt.bar(values, count)\n",
    "\n",
    "values, count = np.unique(np.argmax(y_test, axis=1), return_counts=True)\n",
    "plt.bar(values, count)\n",
    "plt.show()"
   ]
  },
  {
   "cell_type": "markdown",
   "metadata": {},
   "source": [
    "# Training"
   ]
  },
  {
   "cell_type": "code",
   "execution_count": 11,
   "metadata": {
    "scrolled": false
   },
   "outputs": [
    {
     "name": "stdout",
     "output_type": "stream",
     "text": [
      "_________________________________________________________________\n",
      "Layer (type)                 Output Shape              Param #   \n",
      "=================================================================\n",
      "conv2d_1 (Conv2D)            (None, 126, 127, 16)      160       \n",
      "_________________________________________________________________\n",
      "max_pooling2d_1 (MaxPooling2 (None, 63, 63, 16)        0         \n",
      "_________________________________________________________________\n",
      "dropout_1 (Dropout)          (None, 63, 63, 16)        0         \n",
      "_________________________________________________________________\n",
      "conv2d_2 (Conv2D)            (None, 61, 61, 32)        4640      \n",
      "_________________________________________________________________\n",
      "max_pooling2d_2 (MaxPooling2 (None, 30, 30, 32)        0         \n",
      "_________________________________________________________________\n",
      "dropout_2 (Dropout)          (None, 30, 30, 32)        0         \n",
      "_________________________________________________________________\n",
      "conv2d_3 (Conv2D)            (None, 28, 28, 64)        18496     \n",
      "_________________________________________________________________\n",
      "max_pooling2d_3 (MaxPooling2 (None, 14, 14, 64)        0         \n",
      "_________________________________________________________________\n",
      "dropout_3 (Dropout)          (None, 14, 14, 64)        0         \n",
      "_________________________________________________________________\n",
      "conv2d_4 (Conv2D)            (None, 12, 12, 128)       73856     \n",
      "_________________________________________________________________\n",
      "max_pooling2d_4 (MaxPooling2 (None, 6, 6, 128)         0         \n",
      "_________________________________________________________________\n",
      "dropout_4 (Dropout)          (None, 6, 6, 128)         0         \n",
      "_________________________________________________________________\n",
      "conv2d_5 (Conv2D)            (None, 4, 4, 64)          73792     \n",
      "_________________________________________________________________\n",
      "max_pooling2d_5 (MaxPooling2 (None, 1, 1, 64)          0         \n",
      "_________________________________________________________________\n",
      "dropout_5 (Dropout)          (None, 1, 1, 64)          0         \n",
      "_________________________________________________________________\n",
      "flatten_1 (Flatten)          (None, 64)                0         \n",
      "_________________________________________________________________\n",
      "dense_1 (Dense)              (None, 10)                650       \n",
      "=================================================================\n",
      "Total params: 171,594\n",
      "Trainable params: 171,594\n",
      "Non-trainable params: 0\n",
      "_________________________________________________________________\n"
     ]
    }
   ],
   "source": [
    "# Model Definition\n",
    "input_shape = X_train[0].shape\n",
    "num_genres = 10\n",
    "\n",
    "model = Sequential()\n",
    "# Conv Block 1\n",
    "model.add(Conv2D(16, kernel_size=(3, 3), strides=(1, 1),\n",
    "                 activation='relu', input_shape=input_shape))\n",
    "model.add(MaxPooling2D(pool_size=(2, 2), strides=(2, 2)))\n",
    "model.add(Dropout(0.25))\n",
    "\n",
    "# Conv Block 2\n",
    "model.add(Conv2D(32, (3, 3), strides=(1, 1), activation='relu'))\n",
    "model.add(MaxPooling2D(pool_size=(2, 2), strides=(2, 2)))\n",
    "model.add(Dropout(0.25))\n",
    "\n",
    "# Conv Block 3\n",
    "model.add(Conv2D(64, (3, 3), strides=(1, 1), activation='relu'))\n",
    "model.add(MaxPooling2D(pool_size=(2, 2), strides=(2, 2)))\n",
    "model.add(Dropout(0.25))\n",
    "\n",
    "# Conv Block 4\n",
    "model.add(Conv2D(128, (3, 3), strides=(1, 1), activation='relu'))\n",
    "model.add(MaxPooling2D(pool_size=(2, 2), strides=(2, 2)))\n",
    "model.add(Dropout(0.25))\n",
    "\n",
    "# Conv Block 5\n",
    "model.add(Conv2D(64, (3, 3), strides=(1, 1), activation='relu'))\n",
    "model.add(MaxPooling2D(pool_size=(4, 4), strides=(4, 4)))\n",
    "model.add(Dropout(0.25))\n",
    "\n",
    "# MLP\n",
    "model.add(Flatten())\n",
    "model.add(Dense(num_genres, activation='softmax'))\n",
    "\n",
    "model.summary()"
   ]
  },
  {
   "cell_type": "code",
   "execution_count": 12,
   "metadata": {
    "scrolled": true
   },
   "outputs": [
    {
     "name": "stdout",
     "output_type": "stream",
     "text": [
      "Train on 13300 samples, validate on 5700 samples\n",
      "Epoch 1/50\n",
      "13300/13300 [==============================] - 12s 907us/step - loss: 2.1161 - acc: 0.2556 - val_loss: 1.8587 - val_acc: 0.2947\n",
      "Epoch 2/50\n",
      "13300/13300 [==============================] - 6s 482us/step - loss: 1.6891 - acc: 0.3897 - val_loss: 1.5626 - val_acc: 0.4344\n",
      "Epoch 3/50\n",
      "13300/13300 [==============================] - 6s 482us/step - loss: 1.5349 - acc: 0.4553 - val_loss: 1.3784 - val_acc: 0.5074\n",
      "Epoch 4/50\n",
      "13300/13300 [==============================] - 6s 479us/step - loss: 1.4116 - acc: 0.5047 - val_loss: 1.3278 - val_acc: 0.5374\n",
      "Epoch 5/50\n",
      "13300/13300 [==============================] - 6s 473us/step - loss: 1.3372 - acc: 0.5320 - val_loss: 1.2405 - val_acc: 0.5818\n",
      "Epoch 6/50\n",
      "13300/13300 [==============================] - 6s 482us/step - loss: 1.2490 - acc: 0.5701 - val_loss: 1.0711 - val_acc: 0.6540\n",
      "Epoch 7/50\n",
      "13300/13300 [==============================] - 6s 481us/step - loss: 1.1980 - acc: 0.5890 - val_loss: 1.0778 - val_acc: 0.6372\n",
      "Epoch 8/50\n",
      "13300/13300 [==============================] - 6s 485us/step - loss: 1.1286 - acc: 0.6132 - val_loss: 0.9952 - val_acc: 0.6651\n",
      "Epoch 9/50\n",
      "13300/13300 [==============================] - 6s 482us/step - loss: 1.0880 - acc: 0.6289 - val_loss: 1.0029 - val_acc: 0.6681\n",
      "Epoch 10/50\n",
      "13300/13300 [==============================] - 6s 469us/step - loss: 1.0354 - acc: 0.6523 - val_loss: 0.9245 - val_acc: 0.7049\n",
      "Epoch 11/50\n",
      "13300/13300 [==============================] - 6s 480us/step - loss: 1.0090 - acc: 0.6612 - val_loss: 0.9189 - val_acc: 0.6995\n",
      "Epoch 12/50\n",
      "13300/13300 [==============================] - 6s 468us/step - loss: 0.9601 - acc: 0.6794 - val_loss: 0.8710 - val_acc: 0.7072\n",
      "Epoch 13/50\n",
      "13300/13300 [==============================] - 6s 479us/step - loss: 0.9312 - acc: 0.6830 - val_loss: 0.8227 - val_acc: 0.7370\n",
      "Epoch 14/50\n",
      "13300/13300 [==============================] - 6s 476us/step - loss: 0.9078 - acc: 0.6963 - val_loss: 0.7868 - val_acc: 0.7451\n",
      "Epoch 15/50\n",
      "13300/13300 [==============================] - 6s 485us/step - loss: 0.8766 - acc: 0.7081 - val_loss: 0.7881 - val_acc: 0.7514\n",
      "Epoch 16/50\n",
      "13300/13300 [==============================] - 7s 508us/step - loss: 0.8650 - acc: 0.7145 - val_loss: 0.7465 - val_acc: 0.7589\n",
      "Epoch 17/50\n",
      "13300/13300 [==============================] - 6s 482us/step - loss: 0.8256 - acc: 0.7221 - val_loss: 0.7379 - val_acc: 0.7563\n",
      "Epoch 18/50\n",
      "13300/13300 [==============================] - 7s 492us/step - loss: 0.8178 - acc: 0.7233 - val_loss: 0.7290 - val_acc: 0.7586\n",
      "Epoch 19/50\n",
      "13300/13300 [==============================] - 6s 468us/step - loss: 0.7860 - acc: 0.7356 - val_loss: 0.8074 - val_acc: 0.7188\n",
      "Epoch 20/50\n",
      "13300/13300 [==============================] - 7s 499us/step - loss: 0.7841 - acc: 0.7396 - val_loss: 0.6749 - val_acc: 0.7812\n",
      "Epoch 21/50\n",
      "13300/13300 [==============================] - 7s 500us/step - loss: 0.7705 - acc: 0.7414 - val_loss: 0.7100 - val_acc: 0.7612\n",
      "Epoch 22/50\n",
      "13300/13300 [==============================] - 7s 500us/step - loss: 0.7515 - acc: 0.7517 - val_loss: 0.6739 - val_acc: 0.7742\n",
      "Epoch 23/50\n",
      "13300/13300 [==============================] - 7s 492us/step - loss: 0.7280 - acc: 0.7596 - val_loss: 0.6798 - val_acc: 0.7751\n",
      "Epoch 24/50\n",
      "13300/13300 [==============================] - 7s 496us/step - loss: 0.7099 - acc: 0.7595 - val_loss: 0.7130 - val_acc: 0.7630\n",
      "Epoch 25/50\n",
      "13300/13300 [==============================] - 6s 481us/step - loss: 0.6960 - acc: 0.7625 - val_loss: 0.6240 - val_acc: 0.7893\n",
      "Epoch 26/50\n",
      "13300/13300 [==============================] - 6s 482us/step - loss: 0.7040 - acc: 0.7630 - val_loss: 0.6505 - val_acc: 0.7896\n",
      "Epoch 27/50\n",
      "13300/13300 [==============================] - 6s 479us/step - loss: 0.6916 - acc: 0.7690 - val_loss: 0.6378 - val_acc: 0.7937\n",
      "Epoch 28/50\n",
      "13300/13300 [==============================] - 6s 477us/step - loss: 0.6812 - acc: 0.7720 - val_loss: 0.6817 - val_acc: 0.7682\n",
      "Epoch 29/50\n",
      "13300/13300 [==============================] - 7s 493us/step - loss: 0.6640 - acc: 0.7786 - val_loss: 0.6571 - val_acc: 0.7832\n",
      "Epoch 30/50\n",
      "13300/13300 [==============================] - 6s 457us/step - loss: 0.6535 - acc: 0.7805 - val_loss: 0.5727 - val_acc: 0.8137\n",
      "Epoch 31/50\n",
      "13300/13300 [==============================] - 6s 482us/step - loss: 0.6504 - acc: 0.7795 - val_loss: 0.6003 - val_acc: 0.8067\n",
      "Epoch 32/50\n",
      "13300/13300 [==============================] - 6s 463us/step - loss: 0.6307 - acc: 0.7879 - val_loss: 0.5618 - val_acc: 0.8193\n",
      "Epoch 33/50\n",
      "13300/13300 [==============================] - 7s 500us/step - loss: 0.6285 - acc: 0.7863 - val_loss: 0.6155 - val_acc: 0.7975\n",
      "Epoch 34/50\n",
      "13300/13300 [==============================] - 6s 489us/step - loss: 0.6239 - acc: 0.7871 - val_loss: 0.5522 - val_acc: 0.8223\n",
      "Epoch 35/50\n",
      "13300/13300 [==============================] - 7s 491us/step - loss: 0.6235 - acc: 0.7926 - val_loss: 0.6099 - val_acc: 0.7986\n",
      "Epoch 36/50\n",
      "13300/13300 [==============================] - 7s 511us/step - loss: 0.5884 - acc: 0.8022 - val_loss: 0.5413 - val_acc: 0.8228\n",
      "Epoch 37/50\n",
      "13300/13300 [==============================] - 7s 492us/step - loss: 0.5907 - acc: 0.7997 - val_loss: 0.5863 - val_acc: 0.8060\n",
      "Epoch 38/50\n",
      "13300/13300 [==============================] - 6s 483us/step - loss: 0.5935 - acc: 0.8004 - val_loss: 0.5776 - val_acc: 0.8100\n",
      "Epoch 39/50\n",
      "13300/13300 [==============================] - 7s 498us/step - loss: 0.5756 - acc: 0.8057 - val_loss: 0.6161 - val_acc: 0.7907\n",
      "Epoch 40/50\n",
      "13300/13300 [==============================] - 7s 491us/step - loss: 0.5778 - acc: 0.8071 - val_loss: 0.5355 - val_acc: 0.8265\n",
      "Epoch 41/50\n",
      "13300/13300 [==============================] - 6s 484us/step - loss: 0.5798 - acc: 0.8064 - val_loss: 0.5098 - val_acc: 0.8325\n",
      "Epoch 42/50\n",
      "13300/13300 [==============================] - 6s 476us/step - loss: 0.5750 - acc: 0.8074 - val_loss: 0.5661 - val_acc: 0.8107\n",
      "Epoch 43/50\n",
      "13300/13300 [==============================] - 6s 479us/step - loss: 0.5599 - acc: 0.8108 - val_loss: 0.5201 - val_acc: 0.8286\n",
      "Epoch 44/50\n",
      "13300/13300 [==============================] - 6s 471us/step - loss: 0.5589 - acc: 0.8123 - val_loss: 0.5371 - val_acc: 0.8218\n",
      "Epoch 45/50\n",
      "13300/13300 [==============================] - 6s 476us/step - loss: 0.5403 - acc: 0.8221 - val_loss: 0.5692 - val_acc: 0.8105\n",
      "Epoch 46/50\n",
      "13300/13300 [==============================] - 7s 493us/step - loss: 0.5525 - acc: 0.8129 - val_loss: 0.5448 - val_acc: 0.8116\n",
      "Epoch 47/50\n",
      "13300/13300 [==============================] - 6s 476us/step - loss: 0.5471 - acc: 0.8162 - val_loss: 0.5062 - val_acc: 0.8295\n",
      "Epoch 48/50\n",
      "13300/13300 [==============================] - 7s 492us/step - loss: 0.5378 - acc: 0.8202 - val_loss: 0.5619 - val_acc: 0.8089\n",
      "Epoch 49/50\n",
      "13300/13300 [==============================] - 6s 479us/step - loss: 0.5337 - acc: 0.8227 - val_loss: 0.5231 - val_acc: 0.8289\n",
      "Epoch 50/50\n",
      "13300/13300 [==============================] - 7s 499us/step - loss: 0.5283 - acc: 0.8186 - val_loss: 0.5107 - val_acc: 0.8300\n"
     ]
    }
   ],
   "source": [
    "model.compile(loss=keras.losses.categorical_crossentropy,\n",
    "              optimizer=keras.optimizers.Adam(),\n",
    "              metrics=['accuracy'])\n",
    "\n",
    "hist = model.fit(X_train, y_train,\n",
    "          batch_size=32,\n",
    "          epochs=50,\n",
    "          verbose=1,\n",
    "          validation_data=(X_test, y_test))"
   ]
  },
  {
   "cell_type": "code",
   "execution_count": 13,
   "metadata": {
    "scrolled": true
   },
   "outputs": [
    {
     "name": "stdout",
     "output_type": "stream",
     "text": [
      "val_loss = 0.511 and val_acc = 0.830\n"
     ]
    }
   ],
   "source": [
    "score = model.evaluate(X_test, y_test, verbose=0)\n",
    "print(\"val_loss = {:.3f} and val_acc = {:.3f}\".format(score[0], score[1]))"
   ]
  },
  {
   "cell_type": "code",
   "execution_count": 14,
   "metadata": {},
   "outputs": [
    {
     "data": {
      "image/png": "[encoded data removed]",
      "text/plain": [
       "<Figure size 504x216 with 1 Axes>"
      ]
     },
     "metadata": {},
     "output_type": "display_data"
    },
    {
     "data": {
      "image/png": "[encoded data removed]",
      "text/plain": [
       "<Figure size 504x216 with 1 Axes>"
      ]
     },
     "metadata": {},
     "output_type": "display_data"
    }
   ],
   "source": [
    "plt.figure(figsize=(7,3))\n",
    "\n",
    "plt.plot(hist.history['acc'], label='train acc  ')\n",
    "plt.plot(hist.history['val_acc'], label='validation acc')\n",
    "# plt.title('Accuracy')\n",
    "plt.xlabel('Epochs')\n",
    "plt.ylabel('Accuracy')\n",
    "plt.savefig('Training and validation accuracy')\n",
    "plt.legend()\n",
    "plt.show()\n",
    "plt.figure(figsize=(7,3))\n",
    "plt.plot(hist.history['loss'], label='train')\n",
    "plt.plot(hist.history['val_loss'], label='validation')\n",
    "# plt.title('Loss')\n",
    "plt.xlabel('Epochs')\n",
    "plt.ylabel('Loss')\n",
    "plt.savefig('Training and validation accuracy')\n",
    "plt.legend()\n",
    "\n",
    "# plt.tight_layout()\n",
    "plt.show()"
   ]
  },
  {
   "cell_type": "code",
   "execution_count": 24,
   "metadata": {},
   "outputs": [],
   "source": [
    "#http://scikit-learn.org/stable/auto_examples/model_selection/plot_confusion_matrix.html\n",
    "def plot_confusion_matrix(cm, classes,\n",
    "                          normalize=False,\n",
    "                          title='Confusion matrix',\n",
    "                          cmap=plt.cm.Blues):\n",
    "    \"\"\"\n",
    "    This function prints and plots the confusion matrix.\n",
    "    Normalization can be applied by setting `normalize=True`.\n",
    "    \"\"\"\n",
    "    if normalize:\n",
    "        cm = cm.astype('float') / cm.sum(axis=1)[:, np.newaxis]\n",
    "        print(\"Normalized confusion matrix\")\n",
    "    else:\n",
    "        print('Confusion matrix, without normalization')\n",
    "    plt.figure(figsize=(7,7))\n",
    "    plt.imshow(cm, interpolation='nearest', cmap=cmap)\n",
    "#     plt.title(title)\n",
    "    plt.colorbar()\n",
    "    tick_marks = np.arange(len(classes))\n",
    "    plt.xticks(tick_marks, classes, rotation=45)\n",
    "    plt.yticks(tick_marks, classes)\n",
    "\n",
    "    fmt = '.2f' if normalize else 'd'\n",
    "    thresh = cm.max() / 2.\n",
    "    for i, j in itertools.product(range(cm.shape[0]), range(cm.shape[1])):\n",
    "        plt.text(j, i, format(cm[i, j], fmt),\n",
    "                 horizontalalignment=\"center\",\n",
    "                 color=\"white\" if cm[i, j] > thresh else \"black\")\n",
    "\n",
    "    plt.tight_layout()\n",
    "    plt.ylabel('True label')\n",
    "    plt.xlabel('Predicted label')\n",
    "    plt.savefig(title)"
   ]
  },
  {
   "cell_type": "code",
   "execution_count": 25,
   "metadata": {},
   "outputs": [],
   "source": [
    "preds = np.argmax(model.predict(X_test), axis = 1)\n",
    "y_orig = np.argmax(y_test, axis = 1)\n",
    "cm = confusion_matrix(preds, y_orig)"
   ]
  },
  {
   "cell_type": "code",
   "execution_count": 26,
   "metadata": {},
   "outputs": [
    {
     "name": "stdout",
     "output_type": "stream",
     "text": [
      "Normalized confusion matrix\n"
     ]
    },
    {
     "data": {
      "text/plain": [
       "<Figure size 576x576 with 0 Axes>"
      ]
     },
     "metadata": {},
     "output_type": "display_data"
    },
    {
     "data": {
      "image/png": "[encoded data removed]",
      "text/plain": [
       "<Figure size 504x504 with 2 Axes>"
      ]
     },
     "metadata": {},
     "output_type": "display_data"
    }
   ],
   "source": [
    "genres = {'metal': 0, 'disco': 1, 'classical': 2, 'hiphop': 3, 'jazz': 4, \n",
    "          'country': 5, 'pop': 6, 'blues': 7, 'reggae': 8, 'rock': 9}\n",
    "keys = OrderedDict(sorted(genres.items(), key=lambda t: t[1])).keys()\n",
    "\n",
    "\n",
    "plt.figure(figsize=(8,8))\n",
    "plot_confusion_matrix(cm, keys, normalize=True)"
   ]
  },
  {
   "cell_type": "markdown",
   "metadata": {},
   "source": [
    "## Save the model"
   ]
  },
  {
   "cell_type": "code",
   "execution_count": 22,
   "metadata": {},
   "outputs": [],
   "source": [
    "# Save the model\n",
    "model.save('../models/music1.h5')"
   ]
  },
  {
   "cell_type": "code",
   "execution_count": null,
   "metadata": {},
   "outputs": [],
   "source": []
  }
 ],
 "metadata": {
  "kernelspec": {
   "display_name": "Python 3",
   "language": "python",
   "name": "python3"
  },
  "language_info": {
   "codemirror_mode": {
    "name": "ipython",
    "version": 3
   },
   "file_extension": ".py",
   "mimetype": "text/x-python",
   "name": "python",
   "nbconvert_exporter": "python",
   "pygments_lexer": "ipython3",
   "version": "3.5.2"
  }
 },
 "nbformat": 4,
 "nbformat_minor": 2
}
